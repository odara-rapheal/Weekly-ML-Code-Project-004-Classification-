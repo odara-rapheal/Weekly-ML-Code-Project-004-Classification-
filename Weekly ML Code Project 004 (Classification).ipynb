{
 "cells": [
  {
   "cell_type": "code",
   "execution_count": 487,
   "metadata": {},
   "outputs": [],
   "source": [
    "# importing required libraries\n",
    "import pandas as pd\n",
    "import seaborn as sns\n",
    "import numpy as np\n",
    "import matplotlib.pyplot as plt\n",
    "from sklearn.linear_model import LogisticRegression\n",
    "from sklearn.metrics import confusion_matrix, recall_score, precision_score, f1_score"
   ]
  },
  {
   "cell_type": "markdown",
   "metadata": {},
   "source": [
    "## Loding the Dataset"
   ]
  },
  {
   "cell_type": "code",
   "execution_count": 488,
   "metadata": {},
   "outputs": [],
   "source": [
    "# reading the csv file and assigning it to a variable\n",
    "cityFeats = pd.read_csv(\"datasets/Capital_City_Fates.csv\")"
   ]
  },
  {
   "cell_type": "code",
   "execution_count": 489,
   "metadata": {
    "scrolled": true
   },
   "outputs": [
    {
     "data": {
      "text/html": [
       "<div>\n",
       "<style scoped>\n",
       "    .dataframe tbody tr th:only-of-type {\n",
       "        vertical-align: middle;\n",
       "    }\n",
       "\n",
       "    .dataframe tbody tr th {\n",
       "        vertical-align: top;\n",
       "    }\n",
       "\n",
       "    .dataframe thead th {\n",
       "        text-align: right;\n",
       "    }\n",
       "</style>\n",
       "<table border=\"1\" class=\"dataframe\">\n",
       "  <thead>\n",
       "    <tr style=\"text-align: right;\">\n",
       "      <th></th>\n",
       "      <th>hours_per_week_bin</th>\n",
       "      <th>occupation_bin</th>\n",
       "      <th>msr_bin</th>\n",
       "      <th>capital_gl_bin</th>\n",
       "      <th>race_sex_bin</th>\n",
       "      <th>education_num_bin</th>\n",
       "      <th>education_bin</th>\n",
       "      <th>workclass_bin</th>\n",
       "      <th>age_bin</th>\n",
       "      <th>flag</th>\n",
       "      <th>y</th>\n",
       "    </tr>\n",
       "  </thead>\n",
       "  <tbody>\n",
       "    <tr>\n",
       "      <th>0</th>\n",
       "      <td>b. 31-40</td>\n",
       "      <td>b. Mid - Low</td>\n",
       "      <td>b. Mid</td>\n",
       "      <td>c. &gt; 0</td>\n",
       "      <td>c. High</td>\n",
       "      <td>c. 13</td>\n",
       "      <td>c. Bachelors</td>\n",
       "      <td>b. income</td>\n",
       "      <td>d. 36-40 &amp; 56-60</td>\n",
       "      <td>train</td>\n",
       "      <td>0</td>\n",
       "    </tr>\n",
       "    <tr>\n",
       "      <th>1</th>\n",
       "      <td>a. 0-30</td>\n",
       "      <td>e. High</td>\n",
       "      <td>c. High</td>\n",
       "      <td>a. = 0</td>\n",
       "      <td>c. High</td>\n",
       "      <td>c. 13</td>\n",
       "      <td>c. Bachelors</td>\n",
       "      <td>b. income</td>\n",
       "      <td>e. 40-55</td>\n",
       "      <td>train</td>\n",
       "      <td>0</td>\n",
       "    </tr>\n",
       "    <tr>\n",
       "      <th>2</th>\n",
       "      <td>b. 31-40</td>\n",
       "      <td>a. Low</td>\n",
       "      <td>b. Mid</td>\n",
       "      <td>a. = 0</td>\n",
       "      <td>c. High</td>\n",
       "      <td>b. 9-12</td>\n",
       "      <td>b. Mid</td>\n",
       "      <td>b. income</td>\n",
       "      <td>d. 36-40 &amp; 56-60</td>\n",
       "      <td>train</td>\n",
       "      <td>0</td>\n",
       "    </tr>\n",
       "    <tr>\n",
       "      <th>3</th>\n",
       "      <td>b. 31-40</td>\n",
       "      <td>a. Low</td>\n",
       "      <td>c. High</td>\n",
       "      <td>a. = 0</td>\n",
       "      <td>b. Mid</td>\n",
       "      <td>a. 0-8</td>\n",
       "      <td>a. Low</td>\n",
       "      <td>b. income</td>\n",
       "      <td>e. 40-55</td>\n",
       "      <td>train</td>\n",
       "      <td>0</td>\n",
       "    </tr>\n",
       "    <tr>\n",
       "      <th>4</th>\n",
       "      <td>b. 31-40</td>\n",
       "      <td>e. High</td>\n",
       "      <td>c. High</td>\n",
       "      <td>a. = 0</td>\n",
       "      <td>a. Low</td>\n",
       "      <td>c. 13</td>\n",
       "      <td>c. Bachelors</td>\n",
       "      <td>b. income</td>\n",
       "      <td>b. 26-30 &amp; 71-100</td>\n",
       "      <td>train</td>\n",
       "      <td>0</td>\n",
       "    </tr>\n",
       "  </tbody>\n",
       "</table>\n",
       "</div>"
      ],
      "text/plain": [
       "  hours_per_week_bin occupation_bin  msr_bin capital_gl_bin race_sex_bin  \\\n",
       "0           b. 31-40   b. Mid - Low   b. Mid         c. > 0      c. High   \n",
       "1            a. 0-30        e. High  c. High         a. = 0      c. High   \n",
       "2           b. 31-40         a. Low   b. Mid         a. = 0      c. High   \n",
       "3           b. 31-40         a. Low  c. High         a. = 0       b. Mid   \n",
       "4           b. 31-40        e. High  c. High         a. = 0       a. Low   \n",
       "\n",
       "  education_num_bin education_bin workclass_bin            age_bin   flag  y  \n",
       "0             c. 13  c. Bachelors     b. income   d. 36-40 & 56-60  train  0  \n",
       "1             c. 13  c. Bachelors     b. income           e. 40-55  train  0  \n",
       "2           b. 9-12        b. Mid     b. income   d. 36-40 & 56-60  train  0  \n",
       "3            a. 0-8        a. Low     b. income           e. 40-55  train  0  \n",
       "4             c. 13  c. Bachelors     b. income  b. 26-30 & 71-100  train  0  "
      ]
     },
     "execution_count": 489,
     "metadata": {},
     "output_type": "execute_result"
    }
   ],
   "source": [
    "cityFeats.head()"
   ]
  },
  {
   "cell_type": "markdown",
   "metadata": {},
   "source": [
    "from the dataframe above, it can be observed that we have ten (10) categorical variable, one (1) discrete variable and zero (0) continuous variable."
   ]
  },
  {
   "cell_type": "code",
   "execution_count": 490,
   "metadata": {},
   "outputs": [
    {
     "name": "stdout",
     "output_type": "stream",
     "text": [
      "<class 'pandas.core.frame.DataFrame'>\n",
      "RangeIndex: 48842 entries, 0 to 48841\n",
      "Data columns (total 11 columns):\n",
      " #   Column              Non-Null Count  Dtype \n",
      "---  ------              --------------  ----- \n",
      " 0   hours_per_week_bin  48842 non-null  object\n",
      " 1   occupation_bin      48842 non-null  object\n",
      " 2   msr_bin             48842 non-null  object\n",
      " 3   capital_gl_bin      48842 non-null  object\n",
      " 4   race_sex_bin        48842 non-null  object\n",
      " 5   education_num_bin   48842 non-null  object\n",
      " 6   education_bin       48842 non-null  object\n",
      " 7   workclass_bin       48842 non-null  object\n",
      " 8   age_bin             48842 non-null  object\n",
      " 9   flag                48842 non-null  object\n",
      " 10  y                   48842 non-null  int64 \n",
      "dtypes: int64(1), object(10)\n",
      "memory usage: 4.1+ MB\n"
     ]
    }
   ],
   "source": [
    "# getting information about the dataset\n",
    "cityFeats.info()"
   ]
  },
  {
   "cell_type": "code",
   "execution_count": 491,
   "metadata": {},
   "outputs": [
    {
     "data": {
      "text/html": [
       "<div>\n",
       "<style scoped>\n",
       "    .dataframe tbody tr th:only-of-type {\n",
       "        vertical-align: middle;\n",
       "    }\n",
       "\n",
       "    .dataframe tbody tr th {\n",
       "        vertical-align: top;\n",
       "    }\n",
       "\n",
       "    .dataframe thead th {\n",
       "        text-align: right;\n",
       "    }\n",
       "</style>\n",
       "<table border=\"1\" class=\"dataframe\">\n",
       "  <thead>\n",
       "    <tr style=\"text-align: right;\">\n",
       "      <th></th>\n",
       "      <th>y</th>\n",
       "    </tr>\n",
       "  </thead>\n",
       "  <tbody>\n",
       "    <tr>\n",
       "      <th>count</th>\n",
       "      <td>48842.000000</td>\n",
       "    </tr>\n",
       "    <tr>\n",
       "      <th>mean</th>\n",
       "      <td>0.239282</td>\n",
       "    </tr>\n",
       "    <tr>\n",
       "      <th>std</th>\n",
       "      <td>0.426649</td>\n",
       "    </tr>\n",
       "    <tr>\n",
       "      <th>min</th>\n",
       "      <td>0.000000</td>\n",
       "    </tr>\n",
       "    <tr>\n",
       "      <th>25%</th>\n",
       "      <td>0.000000</td>\n",
       "    </tr>\n",
       "    <tr>\n",
       "      <th>50%</th>\n",
       "      <td>0.000000</td>\n",
       "    </tr>\n",
       "    <tr>\n",
       "      <th>75%</th>\n",
       "      <td>0.000000</td>\n",
       "    </tr>\n",
       "    <tr>\n",
       "      <th>max</th>\n",
       "      <td>1.000000</td>\n",
       "    </tr>\n",
       "  </tbody>\n",
       "</table>\n",
       "</div>"
      ],
      "text/plain": [
       "                  y\n",
       "count  48842.000000\n",
       "mean       0.239282\n",
       "std        0.426649\n",
       "min        0.000000\n",
       "25%        0.000000\n",
       "50%        0.000000\n",
       "75%        0.000000\n",
       "max        1.000000"
      ]
     },
     "execution_count": 491,
     "metadata": {},
     "output_type": "execute_result"
    }
   ],
   "source": [
    "# getting a description of the dataset\n",
    "cityFeats.describe()"
   ]
  },
  {
   "cell_type": "markdown",
   "metadata": {},
   "source": [
    "## Exploratory Data Analysis"
   ]
  },
  {
   "cell_type": "code",
   "execution_count": 492,
   "metadata": {},
   "outputs": [
    {
     "data": {
      "text/plain": [
       "hours_per_week_bin    0\n",
       "occupation_bin        0\n",
       "msr_bin               0\n",
       "capital_gl_bin        0\n",
       "race_sex_bin          0\n",
       "education_num_bin     0\n",
       "education_bin         0\n",
       "workclass_bin         0\n",
       "age_bin               0\n",
       "flag                  0\n",
       "y                     0\n",
       "dtype: int64"
      ]
     },
     "execution_count": 492,
     "metadata": {},
     "output_type": "execute_result"
    }
   ],
   "source": [
    "# checking for empty fields/NaN values in the dataset\n",
    "cityFeats.isnull().sum()"
   ]
  },
  {
   "cell_type": "markdown",
   "metadata": {},
   "source": [
    "since there is no empty fields/NaN values in the dataset, we proceed further."
   ]
  },
  {
   "cell_type": "markdown",
   "metadata": {},
   "source": [
    "### Visualizing with a Pair Plot"
   ]
  },
  {
   "cell_type": "code",
   "execution_count": 493,
   "metadata": {
    "scrolled": true
   },
   "outputs": [
    {
     "data": {
      "text/plain": [
       "<seaborn.axisgrid.PairGrid at 0x1fe61ee7b20>"
      ]
     },
     "execution_count": 493,
     "metadata": {},
     "output_type": "execute_result"
    },
    {
     "data": {
      "image/png": "[encoded data removed]",
      "text/plain": [
       "<Figure size 180x180 with 2 Axes>"
      ]
     },
     "metadata": {
      "needs_background": "light"
     },
     "output_type": "display_data"
    }
   ],
   "source": [
    "# using a pairplot to show the relationship between all variables\n",
    "sns.pairplot(cityFeats)"
   ]
  },
  {
   "cell_type": "code",
   "execution_count": 494,
   "metadata": {},
   "outputs": [
    {
     "data": {
      "text/plain": [
       "<seaborn.axisgrid.PairGrid at 0x1fe620ed7c0>"
      ]
     },
     "execution_count": 494,
     "metadata": {},
     "output_type": "execute_result"
    },
    {
     "data": {
      "image/png": "[encoded data removed]",
      "text/plain": [
       "<Figure size 289.25x180 with 2 Axes>"
      ]
     },
     "metadata": {
      "needs_background": "light"
     },
     "output_type": "display_data"
    }
   ],
   "source": [
    "# using a pairplot to show the relationship between all variables\n",
    "# and segmenting the charts according to values of the categorical varaible\n",
    "\n",
    "# segmenting the charts according to \"hours_per_week_bin\" categorical varaible\n",
    "sns.pairplot(cityFeats, hue = \"hours_per_week_bin\")"
   ]
  },
  {
   "cell_type": "code",
   "execution_count": 495,
   "metadata": {},
   "outputs": [
    {
     "data": {
      "text/plain": [
       "<seaborn.axisgrid.PairGrid at 0x1fe61ffd190>"
      ]
     },
     "execution_count": 495,
     "metadata": {},
     "output_type": "execute_result"
    },
    {
     "data": {
      "image/png": "[encoded data removed]",
      "text/plain": [
       "<Figure size 263.375x180 with 2 Axes>"
      ]
     },
     "metadata": {
      "needs_background": "light"
     },
     "output_type": "display_data"
    }
   ],
   "source": [
    "# segmenting the charts according to \"occupation_bin\" categorical varaible\n",
    "sns.pairplot(cityFeats, hue = \"occupation_bin\")"
   ]
  },
  {
   "cell_type": "code",
   "execution_count": 496,
   "metadata": {},
   "outputs": [
    {
     "data": {
      "text/plain": [
       "<seaborn.axisgrid.PairGrid at 0x1fe632b2f10>"
      ]
     },
     "execution_count": 496,
     "metadata": {},
     "output_type": "execute_result"
    },
    {
     "data": {
      "image/png": "[encoded data removed]",
      "text/plain": [
       "<Figure size 227.5x180 with 2 Axes>"
      ]
     },
     "metadata": {
      "needs_background": "light"
     },
     "output_type": "display_data"
    }
   ],
   "source": [
    "# segmenting the charts according to \"msr_bin\" categorical varaible\n",
    "sns.pairplot(cityFeats, hue = \"msr_bin\")"
   ]
  },
  {
   "cell_type": "code",
   "execution_count": 497,
   "metadata": {},
   "outputs": [
    {
     "data": {
      "text/plain": [
       "<seaborn.axisgrid.PairGrid at 0x1fe64a43d90>"
      ]
     },
     "execution_count": 497,
     "metadata": {},
     "output_type": "execute_result"
    },
    {
     "data": {
      "image/png": "[encoded data removed]",
      "text/plain": [
       "<Figure size 256.375x180 with 2 Axes>"
      ]
     },
     "metadata": {
      "needs_background": "light"
     },
     "output_type": "display_data"
    }
   ],
   "source": [
    "# segmenting the charts according to \"capital_gl_bin\" categorical varaible\n",
    "sns.pairplot(cityFeats, hue = \"capital_gl_bin\")"
   ]
  },
  {
   "cell_type": "code",
   "execution_count": 498,
   "metadata": {},
   "outputs": [
    {
     "data": {
      "text/plain": [
       "<seaborn.axisgrid.PairGrid at 0x1fe63a11820>"
      ]
     },
     "execution_count": 498,
     "metadata": {},
     "output_type": "execute_result"
    },
    {
     "data": {
      "image/png": "[encoded data removed]",
      "text/plain": [
       "<Figure size 252.5x180 with 2 Axes>"
      ]
     },
     "metadata": {
      "needs_background": "light"
     },
     "output_type": "display_data"
    }
   ],
   "source": [
    "# segmenting the charts according to \"race_sex_bin\" categorical varaible\n",
    "sns.pairplot(cityFeats, hue = \"race_sex_bin\")"
   ]
  },
  {
   "cell_type": "code",
   "execution_count": 499,
   "metadata": {},
   "outputs": [
    {
     "data": {
      "text/plain": [
       "<seaborn.axisgrid.PairGrid at 0x1fe64ac6d90>"
      ]
     },
     "execution_count": 499,
     "metadata": {},
     "output_type": "execute_result"
    },
    {
     "data": {
      "image/png": "[encoded data removed]",
      "text/plain": [
       "<Figure size 285.5x180 with 2 Axes>"
      ]
     },
     "metadata": {
      "needs_background": "light"
     },
     "output_type": "display_data"
    }
   ],
   "source": [
    "# segmenting the charts according to \"education_num_bin\" categorical varaible\n",
    "sns.pairplot(cityFeats, hue = \"education_num_bin\")"
   ]
  },
  {
   "cell_type": "code",
   "execution_count": 500,
   "metadata": {},
   "outputs": [
    {
     "data": {
      "text/plain": [
       "<seaborn.axisgrid.PairGrid at 0x1fe620983d0>"
      ]
     },
     "execution_count": 500,
     "metadata": {},
     "output_type": "execute_result"
    },
    {
     "data": {
      "image/png": "[encoded data removed]",
      "text/plain": [
       "<Figure size 258.125x180 with 2 Axes>"
      ]
     },
     "metadata": {
      "needs_background": "light"
     },
     "output_type": "display_data"
    }
   ],
   "source": [
    "# segmenting the charts according to \"education_bin\" categorical varaible\n",
    "sns.pairplot(cityFeats, hue = \"education_bin\")"
   ]
  },
  {
   "cell_type": "code",
   "execution_count": 501,
   "metadata": {},
   "outputs": [
    {
     "data": {
      "text/plain": [
       "<seaborn.axisgrid.PairGrid at 0x1fe64cc6e50>"
      ]
     },
     "execution_count": 501,
     "metadata": {},
     "output_type": "execute_result"
    },
    {
     "data": {
      "image/png": "[encoded data removed]",
      "text/plain": [
       "<Figure size 257.5x180 with 2 Axes>"
      ]
     },
     "metadata": {
      "needs_background": "light"
     },
     "output_type": "display_data"
    }
   ],
   "source": [
    "# segmenting the charts according to \"workclass_bin\" categorical varaible\n",
    "sns.pairplot(cityFeats, hue = \"workclass_bin\")"
   ]
  },
  {
   "cell_type": "code",
   "execution_count": 502,
   "metadata": {},
   "outputs": [
    {
     "data": {
      "text/plain": [
       "<seaborn.axisgrid.PairGrid at 0x1fe64c19c40>"
      ]
     },
     "execution_count": 502,
     "metadata": {},
     "output_type": "execute_result"
    },
    {
     "data": {
      "image/png": "[encoded data removed]",
      "text/plain": [
       "<Figure size 227.125x180 with 2 Axes>"
      ]
     },
     "metadata": {
      "needs_background": "light"
     },
     "output_type": "display_data"
    }
   ],
   "source": [
    "# segmenting the charts according to \"age_bin\" categorical varaible\n",
    "sns.pairplot(cityFeats, hue = \"age_bin\")"
   ]
  },
  {
   "cell_type": "code",
   "execution_count": 503,
   "metadata": {},
   "outputs": [
    {
     "data": {
      "text/plain": [
       "<seaborn.axisgrid.PairGrid at 0x1fe64cd0760>"
      ]
     },
     "execution_count": 503,
     "metadata": {},
     "output_type": "execute_result"
    },
    {
     "data": {
      "image/png": "[encoded data removed]",
      "text/plain": [
       "<Figure size 207x180 with 2 Axes>"
      ]
     },
     "metadata": {
      "needs_background": "light"
     },
     "output_type": "display_data"
    }
   ],
   "source": [
    "#segmenting the charts according to \"flag\" categorical varaible\n",
    "sns.pairplot(cityFeats, hue = \"flag\")"
   ]
  },
  {
   "cell_type": "markdown",
   "metadata": {},
   "source": [
    "### Visualizing with a Violin Plot"
   ]
  },
  {
   "cell_type": "code",
   "execution_count": 504,
   "metadata": {},
   "outputs": [
    {
     "data": {
      "text/plain": [
       "<seaborn.axisgrid.FacetGrid at 0x1fe64e2cc40>"
      ]
     },
     "execution_count": 504,
     "metadata": {},
     "output_type": "execute_result"
    },
    {
     "data": {
      "image/png": "[encoded data removed]",
      "text/plain": [
       "<Figure size 360x360 with 1 Axes>"
      ]
     },
     "metadata": {
      "needs_background": "light"
     },
     "output_type": "display_data"
    }
   ],
   "source": [
    "# plotting a violin plot with the \"flag\" and \"y\" variable\n",
    "sns.catplot(x = \"flag\", y = \"y\", kind = \"violin\", data = cityFeats)"
   ]
  },
  {
   "cell_type": "markdown",
   "metadata": {},
   "source": [
    "from the violin plot above, we can see that we have more of the \"train\" fields in the \"flag\" category than the \"test\" fields."
   ]
  },
  {
   "cell_type": "code",
   "execution_count": 505,
   "metadata": {},
   "outputs": [
    {
     "data": {
      "text/plain": [
       "<seaborn.axisgrid.FacetGrid at 0x1fe64e7b190>"
      ]
     },
     "execution_count": 505,
     "metadata": {},
     "output_type": "execute_result"
    },
    {
     "data": {
      "image/png": "[encoded data removed]",
      "text/plain": [
       "<Figure size 360x360 with 1 Axes>"
      ]
     },
     "metadata": {
      "needs_background": "light"
     },
     "output_type": "display_data"
    }
   ],
   "source": [
    "# plotting a violin plot with the \"msr_bin\" and \"y\" variable\n",
    "sns.catplot(x = \"msr_bin\", y = \"y\", kind = \"violin\", data = cityFeats)"
   ]
  },
  {
   "cell_type": "code",
   "execution_count": 506,
   "metadata": {},
   "outputs": [
    {
     "data": {
      "text/plain": [
       "<seaborn.axisgrid.FacetGrid at 0x1fe65319310>"
      ]
     },
     "execution_count": 506,
     "metadata": {},
     "output_type": "execute_result"
    },
    {
     "data": {
      "image/png": "[encoded data removed]",
      "text/plain": [
       "<Figure size 360x360 with 1 Axes>"
      ]
     },
     "metadata": {
      "needs_background": "light"
     },
     "output_type": "display_data"
    }
   ],
   "source": [
    "# plotting a violin plot with the \"hours_per_week_bin\" and \"y\" variable\n",
    "sns.catplot(x = \"hours_per_week_bin\", y = \"y\", kind = \"violin\", data = cityFeats)"
   ]
  },
  {
   "cell_type": "code",
   "execution_count": 507,
   "metadata": {
    "scrolled": true
   },
   "outputs": [
    {
     "data": {
      "text/plain": [
       "<seaborn.axisgrid.FacetGrid at 0x1fe64f90550>"
      ]
     },
     "execution_count": 507,
     "metadata": {},
     "output_type": "execute_result"
    },
    {
     "data": {
      "image/png": "[encoded data removed]",
      "text/plain": [
       "<Figure size 360x360 with 1 Axes>"
      ]
     },
     "metadata": {
      "needs_background": "light"
     },
     "output_type": "display_data"
    }
   ],
   "source": [
    "# plotting a violin plot with the \"occupation_bin\" and \"y\" variable\n",
    "sns.catplot(x = \"occupation_bin\", y = \"y\", kind = \"violin\", data = cityFeats)"
   ]
  },
  {
   "cell_type": "code",
   "execution_count": 508,
   "metadata": {
    "scrolled": true
   },
   "outputs": [
    {
     "data": {
      "text/plain": [
       "<seaborn.axisgrid.FacetGrid at 0x1fe64f60610>"
      ]
     },
     "execution_count": 508,
     "metadata": {},
     "output_type": "execute_result"
    },
    {
     "data": {
      "image/png": "[encoded data removed]",
      "text/plain": [
       "<Figure size 360x360 with 1 Axes>"
      ]
     },
     "metadata": {
      "needs_background": "light"
     },
     "output_type": "display_data"
    }
   ],
   "source": [
    "# plotting a violin plot with the \"capital_gl_bin\" and \"y\" variable\n",
    "sns.catplot(x = \"capital_gl_bin\", y = \"y\", kind = \"violin\", data = cityFeats)"
   ]
  },
  {
   "cell_type": "code",
   "execution_count": 509,
   "metadata": {
    "scrolled": true
   },
   "outputs": [
    {
     "data": {
      "text/plain": [
       "<seaborn.axisgrid.FacetGrid at 0x1fe64eb16a0>"
      ]
     },
     "execution_count": 509,
     "metadata": {},
     "output_type": "execute_result"
    },
    {
     "data": {
      "image/png": "[encoded data removed]",
      "text/plain": [
       "<Figure size 360x360 with 1 Axes>"
      ]
     },
     "metadata": {
      "needs_background": "light"
     },
     "output_type": "display_data"
    }
   ],
   "source": [
    "# plotting a violin plot with the \"race_sex_bin\" and \"y\" variable\n",
    "sns.catplot(x = \"race_sex_bin\", y = \"y\", kind = \"violin\", data = cityFeats)"
   ]
  },
  {
   "cell_type": "code",
   "execution_count": 510,
   "metadata": {
    "scrolled": false
   },
   "outputs": [
    {
     "data": {
      "text/plain": [
       "<seaborn.axisgrid.FacetGrid at 0x1fe64c88190>"
      ]
     },
     "execution_count": 510,
     "metadata": {},
     "output_type": "execute_result"
    },
    {
     "data": {
      "image/png": "[encoded data removed]",
      "text/plain": [
       "<Figure size 360x360 with 1 Axes>"
      ]
     },
     "metadata": {
      "needs_background": "light"
     },
     "output_type": "display_data"
    }
   ],
   "source": [
    "# plotting a violin plot with the \"education_num_bin\" and \"y\" variable\n",
    "sns.catplot(x = \"education_num_bin\", y = \"y\", kind = \"violin\", data = cityFeats)"
   ]
  },
  {
   "cell_type": "code",
   "execution_count": 511,
   "metadata": {
    "scrolled": true
   },
   "outputs": [
    {
     "data": {
      "text/plain": [
       "<seaborn.axisgrid.FacetGrid at 0x1fe6514ca60>"
      ]
     },
     "execution_count": 511,
     "metadata": {},
     "output_type": "execute_result"
    },
    {
     "data": {
      "image/png": "[encoded data removed]",
      "text/plain": [
       "<Figure size 360x360 with 1 Axes>"
      ]
     },
     "metadata": {
      "needs_background": "light"
     },
     "output_type": "display_data"
    }
   ],
   "source": [
    "# plotting a violin plot with the \"workclass_bin\" and \"y\" variable\n",
    "sns.catplot(x = \"workclass_bin\", y = \"y\", kind = \"violin\", data = cityFeats)"
   ]
  },
  {
   "cell_type": "code",
   "execution_count": 512,
   "metadata": {
    "scrolled": false
   },
   "outputs": [
    {
     "data": {
      "text/plain": [
       "<seaborn.axisgrid.FacetGrid at 0x1fe65019d30>"
      ]
     },
     "execution_count": 512,
     "metadata": {},
     "output_type": "execute_result"
    },
    {
     "data": {
      "image/png": "[encoded data removed]",
      "text/plain": [
       "<Figure size 360x360 with 1 Axes>"
      ]
     },
     "metadata": {
      "needs_background": "light"
     },
     "output_type": "display_data"
    }
   ],
   "source": [
    "# plotting a violin plot with the \"age_bin\" and \"y\" variable\n",
    "sns.catplot(x = \"age_bin\", y = \"y\", kind = \"violin\", data = cityFeats)"
   ]
  },
  {
   "cell_type": "markdown",
   "metadata": {},
   "source": [
    "### Visualizing with a Count Plot"
   ]
  },
  {
   "cell_type": "code",
   "execution_count": 513,
   "metadata": {
    "scrolled": true
   },
   "outputs": [
    {
     "data": {
      "text/plain": [
       "<AxesSubplot:xlabel='hours_per_week_bin', ylabel='count'>"
      ]
     },
     "execution_count": 513,
     "metadata": {},
     "output_type": "execute_result"
    },
    {
     "data": {
      "image/png": "[encoded data removed]",
      "text/plain": [
       "<Figure size 432x288 with 1 Axes>"
      ]
     },
     "metadata": {
      "needs_background": "light"
     },
     "output_type": "display_data"
    }
   ],
   "source": [
    "# count plot of \"hours_per_week_bin\" variable\n",
    "sns.countplot(x ='hours_per_week_bin', data = cityFeats) "
   ]
  },
  {
   "cell_type": "code",
   "execution_count": 514,
   "metadata": {
    "scrolled": true
   },
   "outputs": [
    {
     "data": {
      "text/plain": [
       "<AxesSubplot:xlabel='occupation_bin', ylabel='count'>"
      ]
     },
     "execution_count": 514,
     "metadata": {},
     "output_type": "execute_result"
    },
    {
     "data": {
      "image/png": "[encoded data removed]",
      "text/plain": [
       "<Figure size 432x288 with 1 Axes>"
      ]
     },
     "metadata": {
      "needs_background": "light"
     },
     "output_type": "display_data"
    }
   ],
   "source": [
    "# count plot of \"occupation_bin\" variable\n",
    "sns.countplot(x ='occupation_bin', data = cityFeats) "
   ]
  },
  {
   "cell_type": "code",
   "execution_count": 515,
   "metadata": {
    "scrolled": true
   },
   "outputs": [
    {
     "data": {
      "text/plain": [
       "<AxesSubplot:xlabel='msr_bin', ylabel='count'>"
      ]
     },
     "execution_count": 515,
     "metadata": {},
     "output_type": "execute_result"
    },
    {
     "data": {
      "image/png": "[encoded data removed]",
      "text/plain": [
       "<Figure size 432x288 with 1 Axes>"
      ]
     },
     "metadata": {
      "needs_background": "light"
     },
     "output_type": "display_data"
    }
   ],
   "source": [
    "# count plot of \"msr_bin\" variable\n",
    "sns.countplot(x ='msr_bin', data = cityFeats) "
   ]
  },
  {
   "cell_type": "code",
   "execution_count": 516,
   "metadata": {
    "scrolled": true
   },
   "outputs": [
    {
     "data": {
      "text/plain": [
       "<AxesSubplot:xlabel='capital_gl_bin', ylabel='count'>"
      ]
     },
     "execution_count": 516,
     "metadata": {},
     "output_type": "execute_result"
    },
    {
     "data": {
      "image/png": "[encoded data removed]",
      "text/plain": [
       "<Figure size 432x288 with 1 Axes>"
      ]
     },
     "metadata": {
      "needs_background": "light"
     },
     "output_type": "display_data"
    }
   ],
   "source": [
    "# count plot of \"capital_gl_bin\" variable\n",
    "sns.countplot(x ='capital_gl_bin', data = cityFeats) "
   ]
  },
  {
   "cell_type": "code",
   "execution_count": 517,
   "metadata": {
    "scrolled": true
   },
   "outputs": [
    {
     "data": {
      "text/plain": [
       "<AxesSubplot:xlabel='race_sex_bin', ylabel='count'>"
      ]
     },
     "execution_count": 517,
     "metadata": {},
     "output_type": "execute_result"
    },
    {
     "data": {
      "image/png": "[encoded data removed]",
      "text/plain": [
       "<Figure size 432x288 with 1 Axes>"
      ]
     },
     "metadata": {
      "needs_background": "light"
     },
     "output_type": "display_data"
    }
   ],
   "source": [
    "# count plot of \"race_sex_bin\" variable\n",
    "sns.countplot(x ='race_sex_bin', data = cityFeats) "
   ]
  },
  {
   "cell_type": "code",
   "execution_count": 518,
   "metadata": {
    "scrolled": true
   },
   "outputs": [
    {
     "data": {
      "text/plain": [
       "<AxesSubplot:xlabel='education_num_bin', ylabel='count'>"
      ]
     },
     "execution_count": 518,
     "metadata": {},
     "output_type": "execute_result"
    },
    {
     "data": {
      "image/png": "[encoded data removed]",
      "text/plain": [
       "<Figure size 432x288 with 1 Axes>"
      ]
     },
     "metadata": {
      "needs_background": "light"
     },
     "output_type": "display_data"
    }
   ],
   "source": [
    "# count plot of \"education_num_bin\" variable\n",
    "sns.countplot(x ='education_num_bin', data = cityFeats) "
   ]
  },
  {
   "cell_type": "code",
   "execution_count": 519,
   "metadata": {
    "scrolled": true
   },
   "outputs": [
    {
     "data": {
      "text/plain": [
       "<AxesSubplot:xlabel='education_bin', ylabel='count'>"
      ]
     },
     "execution_count": 519,
     "metadata": {},
     "output_type": "execute_result"
    },
    {
     "data": {
      "image/png": "[encoded data removed]",
      "text/plain": [
       "<Figure size 432x288 with 1 Axes>"
      ]
     },
     "metadata": {
      "needs_background": "light"
     },
     "output_type": "display_data"
    }
   ],
   "source": [
    "# count plot of \"education_bin\" variable\n",
    "sns.countplot(x ='education_bin', data = cityFeats) "
   ]
  },
  {
   "cell_type": "code",
   "execution_count": 520,
   "metadata": {
    "scrolled": true
   },
   "outputs": [
    {
     "data": {
      "text/plain": [
       "<AxesSubplot:xlabel='workclass_bin', ylabel='count'>"
      ]
     },
     "execution_count": 520,
     "metadata": {},
     "output_type": "execute_result"
    },
    {
     "data": {
      "image/png": "[encoded data removed]",
      "text/plain": [
       "<Figure size 432x288 with 1 Axes>"
      ]
     },
     "metadata": {
      "needs_background": "light"
     },
     "output_type": "display_data"
    }
   ],
   "source": [
    "# count plot of \"workclass_bin\" variable\n",
    "sns.countplot(x ='workclass_bin', data = cityFeats) "
   ]
  },
  {
   "cell_type": "code",
   "execution_count": 521,
   "metadata": {
    "scrolled": true
   },
   "outputs": [
    {
     "data": {
      "text/plain": [
       "<AxesSubplot:xlabel='age_bin', ylabel='count'>"
      ]
     },
     "execution_count": 521,
     "metadata": {},
     "output_type": "execute_result"
    },
    {
     "data": {
      "image/png": "[encoded data removed]",
      "text/plain": [
       "<Figure size 432x288 with 1 Axes>"
      ]
     },
     "metadata": {
      "needs_background": "light"
     },
     "output_type": "display_data"
    }
   ],
   "source": [
    "# count plot of \"age_bin\" variable\n",
    "sns.countplot(x ='age_bin', data = cityFeats) "
   ]
  },
  {
   "cell_type": "code",
   "execution_count": 522,
   "metadata": {
    "scrolled": true
   },
   "outputs": [
    {
     "data": {
      "text/plain": [
       "<AxesSubplot:xlabel='flag', ylabel='count'>"
      ]
     },
     "execution_count": 522,
     "metadata": {},
     "output_type": "execute_result"
    },
    {
     "data": {
      "image/png": "[encoded data removed]",
      "text/plain": [
       "<Figure size 432x288 with 1 Axes>"
      ]
     },
     "metadata": {
      "needs_background": "light"
     },
     "output_type": "display_data"
    }
   ],
   "source": [
    "# count plot of \"flag\" variable\n",
    "sns.countplot(x ='flag', data = cityFeats) "
   ]
  },
  {
   "cell_type": "markdown",
   "metadata": {},
   "source": [
    "## Data Preprocessing"
   ]
  },
  {
   "cell_type": "markdown",
   "metadata": {},
   "source": [
    "### Declaring the X and Y variables for Training and Test set"
   ]
  },
  {
   "cell_type": "code",
   "execution_count": 523,
   "metadata": {},
   "outputs": [],
   "source": [
    "# encoding the categorical variables using the get_dummies() function.\n",
    "encoded_df = pd.get_dummies(data = cityFeats )"
   ]
  },
  {
   "cell_type": "code",
   "execution_count": 524,
   "metadata": {
    "scrolled": true
   },
   "outputs": [
    {
     "data": {
      "text/html": [
       "<div>\n",
       "<style scoped>\n",
       "    .dataframe tbody tr th:only-of-type {\n",
       "        vertical-align: middle;\n",
       "    }\n",
       "\n",
       "    .dataframe tbody tr th {\n",
       "        vertical-align: top;\n",
       "    }\n",
       "\n",
       "    .dataframe thead th {\n",
       "        text-align: right;\n",
       "    }\n",
       "</style>\n",
       "<table border=\"1\" class=\"dataframe\">\n",
       "  <thead>\n",
       "    <tr style=\"text-align: right;\">\n",
       "      <th></th>\n",
       "      <th>y</th>\n",
       "      <th>hours_per_week_bin_a. 0-30</th>\n",
       "      <th>hours_per_week_bin_b. 31-40</th>\n",
       "      <th>hours_per_week_bin_c. 71-100</th>\n",
       "      <th>hours_per_week_bin_d. 41-50 &amp; 61-70</th>\n",
       "      <th>hours_per_week_bin_e. 51-60</th>\n",
       "      <th>occupation_bin_a. Low</th>\n",
       "      <th>occupation_bin_b. Mid - Low</th>\n",
       "      <th>occupation_bin_c. Mid - Mid</th>\n",
       "      <th>occupation_bin_d. Mid - High</th>\n",
       "      <th>...</th>\n",
       "      <th>education_bin_e. High</th>\n",
       "      <th>workclass_bin_a. no income</th>\n",
       "      <th>workclass_bin_b. income</th>\n",
       "      <th>age_bin_a. 0-25</th>\n",
       "      <th>age_bin_b. 26-30 &amp; 71-100</th>\n",
       "      <th>age_bin_c. 31-35 &amp; 61-70</th>\n",
       "      <th>age_bin_d. 36-40 &amp; 56-60</th>\n",
       "      <th>age_bin_e. 40-55</th>\n",
       "      <th>flag_test</th>\n",
       "      <th>flag_train</th>\n",
       "    </tr>\n",
       "  </thead>\n",
       "  <tbody>\n",
       "    <tr>\n",
       "      <th>0</th>\n",
       "      <td>0</td>\n",
       "      <td>0</td>\n",
       "      <td>1</td>\n",
       "      <td>0</td>\n",
       "      <td>0</td>\n",
       "      <td>0</td>\n",
       "      <td>0</td>\n",
       "      <td>1</td>\n",
       "      <td>0</td>\n",
       "      <td>0</td>\n",
       "      <td>...</td>\n",
       "      <td>0</td>\n",
       "      <td>0</td>\n",
       "      <td>1</td>\n",
       "      <td>0</td>\n",
       "      <td>0</td>\n",
       "      <td>0</td>\n",
       "      <td>1</td>\n",
       "      <td>0</td>\n",
       "      <td>0</td>\n",
       "      <td>1</td>\n",
       "    </tr>\n",
       "    <tr>\n",
       "      <th>1</th>\n",
       "      <td>0</td>\n",
       "      <td>1</td>\n",
       "      <td>0</td>\n",
       "      <td>0</td>\n",
       "      <td>0</td>\n",
       "      <td>0</td>\n",
       "      <td>0</td>\n",
       "      <td>0</td>\n",
       "      <td>0</td>\n",
       "      <td>0</td>\n",
       "      <td>...</td>\n",
       "      <td>0</td>\n",
       "      <td>0</td>\n",
       "      <td>1</td>\n",
       "      <td>0</td>\n",
       "      <td>0</td>\n",
       "      <td>0</td>\n",
       "      <td>0</td>\n",
       "      <td>1</td>\n",
       "      <td>0</td>\n",
       "      <td>1</td>\n",
       "    </tr>\n",
       "    <tr>\n",
       "      <th>2</th>\n",
       "      <td>0</td>\n",
       "      <td>0</td>\n",
       "      <td>1</td>\n",
       "      <td>0</td>\n",
       "      <td>0</td>\n",
       "      <td>0</td>\n",
       "      <td>1</td>\n",
       "      <td>0</td>\n",
       "      <td>0</td>\n",
       "      <td>0</td>\n",
       "      <td>...</td>\n",
       "      <td>0</td>\n",
       "      <td>0</td>\n",
       "      <td>1</td>\n",
       "      <td>0</td>\n",
       "      <td>0</td>\n",
       "      <td>0</td>\n",
       "      <td>1</td>\n",
       "      <td>0</td>\n",
       "      <td>0</td>\n",
       "      <td>1</td>\n",
       "    </tr>\n",
       "    <tr>\n",
       "      <th>3</th>\n",
       "      <td>0</td>\n",
       "      <td>0</td>\n",
       "      <td>1</td>\n",
       "      <td>0</td>\n",
       "      <td>0</td>\n",
       "      <td>0</td>\n",
       "      <td>1</td>\n",
       "      <td>0</td>\n",
       "      <td>0</td>\n",
       "      <td>0</td>\n",
       "      <td>...</td>\n",
       "      <td>0</td>\n",
       "      <td>0</td>\n",
       "      <td>1</td>\n",
       "      <td>0</td>\n",
       "      <td>0</td>\n",
       "      <td>0</td>\n",
       "      <td>0</td>\n",
       "      <td>1</td>\n",
       "      <td>0</td>\n",
       "      <td>1</td>\n",
       "    </tr>\n",
       "    <tr>\n",
       "      <th>4</th>\n",
       "      <td>0</td>\n",
       "      <td>0</td>\n",
       "      <td>1</td>\n",
       "      <td>0</td>\n",
       "      <td>0</td>\n",
       "      <td>0</td>\n",
       "      <td>0</td>\n",
       "      <td>0</td>\n",
       "      <td>0</td>\n",
       "      <td>0</td>\n",
       "      <td>...</td>\n",
       "      <td>0</td>\n",
       "      <td>0</td>\n",
       "      <td>1</td>\n",
       "      <td>0</td>\n",
       "      <td>1</td>\n",
       "      <td>0</td>\n",
       "      <td>0</td>\n",
       "      <td>0</td>\n",
       "      <td>0</td>\n",
       "      <td>1</td>\n",
       "    </tr>\n",
       "    <tr>\n",
       "      <th>...</th>\n",
       "      <td>...</td>\n",
       "      <td>...</td>\n",
       "      <td>...</td>\n",
       "      <td>...</td>\n",
       "      <td>...</td>\n",
       "      <td>...</td>\n",
       "      <td>...</td>\n",
       "      <td>...</td>\n",
       "      <td>...</td>\n",
       "      <td>...</td>\n",
       "      <td>...</td>\n",
       "      <td>...</td>\n",
       "      <td>...</td>\n",
       "      <td>...</td>\n",
       "      <td>...</td>\n",
       "      <td>...</td>\n",
       "      <td>...</td>\n",
       "      <td>...</td>\n",
       "      <td>...</td>\n",
       "      <td>...</td>\n",
       "      <td>...</td>\n",
       "    </tr>\n",
       "    <tr>\n",
       "      <th>48837</th>\n",
       "      <td>0</td>\n",
       "      <td>0</td>\n",
       "      <td>1</td>\n",
       "      <td>0</td>\n",
       "      <td>0</td>\n",
       "      <td>0</td>\n",
       "      <td>0</td>\n",
       "      <td>0</td>\n",
       "      <td>0</td>\n",
       "      <td>0</td>\n",
       "      <td>...</td>\n",
       "      <td>0</td>\n",
       "      <td>0</td>\n",
       "      <td>1</td>\n",
       "      <td>0</td>\n",
       "      <td>0</td>\n",
       "      <td>0</td>\n",
       "      <td>1</td>\n",
       "      <td>0</td>\n",
       "      <td>1</td>\n",
       "      <td>0</td>\n",
       "    </tr>\n",
       "    <tr>\n",
       "      <th>48838</th>\n",
       "      <td>0</td>\n",
       "      <td>0</td>\n",
       "      <td>1</td>\n",
       "      <td>0</td>\n",
       "      <td>0</td>\n",
       "      <td>0</td>\n",
       "      <td>0</td>\n",
       "      <td>1</td>\n",
       "      <td>0</td>\n",
       "      <td>0</td>\n",
       "      <td>...</td>\n",
       "      <td>0</td>\n",
       "      <td>1</td>\n",
       "      <td>0</td>\n",
       "      <td>0</td>\n",
       "      <td>0</td>\n",
       "      <td>1</td>\n",
       "      <td>0</td>\n",
       "      <td>0</td>\n",
       "      <td>1</td>\n",
       "      <td>0</td>\n",
       "    </tr>\n",
       "    <tr>\n",
       "      <th>48839</th>\n",
       "      <td>0</td>\n",
       "      <td>0</td>\n",
       "      <td>0</td>\n",
       "      <td>0</td>\n",
       "      <td>1</td>\n",
       "      <td>0</td>\n",
       "      <td>0</td>\n",
       "      <td>0</td>\n",
       "      <td>0</td>\n",
       "      <td>0</td>\n",
       "      <td>...</td>\n",
       "      <td>0</td>\n",
       "      <td>0</td>\n",
       "      <td>1</td>\n",
       "      <td>0</td>\n",
       "      <td>0</td>\n",
       "      <td>0</td>\n",
       "      <td>1</td>\n",
       "      <td>0</td>\n",
       "      <td>1</td>\n",
       "      <td>0</td>\n",
       "    </tr>\n",
       "    <tr>\n",
       "      <th>48840</th>\n",
       "      <td>0</td>\n",
       "      <td>0</td>\n",
       "      <td>1</td>\n",
       "      <td>0</td>\n",
       "      <td>0</td>\n",
       "      <td>0</td>\n",
       "      <td>0</td>\n",
       "      <td>1</td>\n",
       "      <td>0</td>\n",
       "      <td>0</td>\n",
       "      <td>...</td>\n",
       "      <td>0</td>\n",
       "      <td>0</td>\n",
       "      <td>1</td>\n",
       "      <td>0</td>\n",
       "      <td>0</td>\n",
       "      <td>0</td>\n",
       "      <td>0</td>\n",
       "      <td>1</td>\n",
       "      <td>1</td>\n",
       "      <td>0</td>\n",
       "    </tr>\n",
       "    <tr>\n",
       "      <th>48841</th>\n",
       "      <td>1</td>\n",
       "      <td>0</td>\n",
       "      <td>0</td>\n",
       "      <td>0</td>\n",
       "      <td>0</td>\n",
       "      <td>1</td>\n",
       "      <td>0</td>\n",
       "      <td>0</td>\n",
       "      <td>0</td>\n",
       "      <td>0</td>\n",
       "      <td>...</td>\n",
       "      <td>0</td>\n",
       "      <td>0</td>\n",
       "      <td>1</td>\n",
       "      <td>0</td>\n",
       "      <td>0</td>\n",
       "      <td>1</td>\n",
       "      <td>0</td>\n",
       "      <td>0</td>\n",
       "      <td>1</td>\n",
       "      <td>0</td>\n",
       "    </tr>\n",
       "  </tbody>\n",
       "</table>\n",
       "<p>48842 rows × 39 columns</p>\n",
       "</div>"
      ],
      "text/plain": [
       "       y  hours_per_week_bin_a. 0-30  hours_per_week_bin_b. 31-40  \\\n",
       "0      0                           0                            1   \n",
       "1      0                           1                            0   \n",
       "2      0                           0                            1   \n",
       "3      0                           0                            1   \n",
       "4      0                           0                            1   \n",
       "...   ..                         ...                          ...   \n",
       "48837  0                           0                            1   \n",
       "48838  0                           0                            1   \n",
       "48839  0                           0                            0   \n",
       "48840  0                           0                            1   \n",
       "48841  1                           0                            0   \n",
       "\n",
       "       hours_per_week_bin_c. 71-100  hours_per_week_bin_d. 41-50 & 61-70  \\\n",
       "0                                 0                                    0   \n",
       "1                                 0                                    0   \n",
       "2                                 0                                    0   \n",
       "3                                 0                                    0   \n",
       "4                                 0                                    0   \n",
       "...                             ...                                  ...   \n",
       "48837                             0                                    0   \n",
       "48838                             0                                    0   \n",
       "48839                             0                                    1   \n",
       "48840                             0                                    0   \n",
       "48841                             0                                    0   \n",
       "\n",
       "       hours_per_week_bin_e. 51-60  occupation_bin_a. Low  \\\n",
       "0                                0                      0   \n",
       "1                                0                      0   \n",
       "2                                0                      1   \n",
       "3                                0                      1   \n",
       "4                                0                      0   \n",
       "...                            ...                    ...   \n",
       "48837                            0                      0   \n",
       "48838                            0                      0   \n",
       "48839                            0                      0   \n",
       "48840                            0                      0   \n",
       "48841                            1                      0   \n",
       "\n",
       "       occupation_bin_b. Mid - Low  occupation_bin_c. Mid - Mid  \\\n",
       "0                                1                            0   \n",
       "1                                0                            0   \n",
       "2                                0                            0   \n",
       "3                                0                            0   \n",
       "4                                0                            0   \n",
       "...                            ...                          ...   \n",
       "48837                            0                            0   \n",
       "48838                            1                            0   \n",
       "48839                            0                            0   \n",
       "48840                            1                            0   \n",
       "48841                            0                            0   \n",
       "\n",
       "       occupation_bin_d. Mid - High  ...  education_bin_e. High  \\\n",
       "0                                 0  ...                      0   \n",
       "1                                 0  ...                      0   \n",
       "2                                 0  ...                      0   \n",
       "3                                 0  ...                      0   \n",
       "4                                 0  ...                      0   \n",
       "...                             ...  ...                    ...   \n",
       "48837                             0  ...                      0   \n",
       "48838                             0  ...                      0   \n",
       "48839                             0  ...                      0   \n",
       "48840                             0  ...                      0   \n",
       "48841                             0  ...                      0   \n",
       "\n",
       "       workclass_bin_a. no income  workclass_bin_b. income  age_bin_a. 0-25  \\\n",
       "0                               0                        1                0   \n",
       "1                               0                        1                0   \n",
       "2                               0                        1                0   \n",
       "3                               0                        1                0   \n",
       "4                               0                        1                0   \n",
       "...                           ...                      ...              ...   \n",
       "48837                           0                        1                0   \n",
       "48838                           1                        0                0   \n",
       "48839                           0                        1                0   \n",
       "48840                           0                        1                0   \n",
       "48841                           0                        1                0   \n",
       "\n",
       "       age_bin_b. 26-30 & 71-100  age_bin_c. 31-35 & 61-70  \\\n",
       "0                              0                         0   \n",
       "1                              0                         0   \n",
       "2                              0                         0   \n",
       "3                              0                         0   \n",
       "4                              1                         0   \n",
       "...                          ...                       ...   \n",
       "48837                          0                         0   \n",
       "48838                          0                         1   \n",
       "48839                          0                         0   \n",
       "48840                          0                         0   \n",
       "48841                          0                         1   \n",
       "\n",
       "       age_bin_d. 36-40 & 56-60  age_bin_e. 40-55  flag_test  flag_train  \n",
       "0                             1                 0          0           1  \n",
       "1                             0                 1          0           1  \n",
       "2                             1                 0          0           1  \n",
       "3                             0                 1          0           1  \n",
       "4                             0                 0          0           1  \n",
       "...                         ...               ...        ...         ...  \n",
       "48837                         1                 0          1           0  \n",
       "48838                         0                 0          1           0  \n",
       "48839                         1                 0          1           0  \n",
       "48840                         0                 1          1           0  \n",
       "48841                         0                 0          1           0  \n",
       "\n",
       "[48842 rows x 39 columns]"
      ]
     },
     "execution_count": 524,
     "metadata": {},
     "output_type": "execute_result"
    }
   ],
   "source": [
    "# loading the encoded_df dataframe\n",
    "encoded_df"
   ]
  },
  {
   "cell_type": "code",
   "execution_count": 525,
   "metadata": {},
   "outputs": [],
   "source": [
    "# defining training set\n",
    "training_set = encoded_df[encoded_df['flag_train'] == 1]"
   ]
  },
  {
   "cell_type": "code",
   "execution_count": 526,
   "metadata": {},
   "outputs": [],
   "source": [
    "# defining test set\n",
    "test_set = encoded_df[encoded_df['flag_test'] == 1]"
   ]
  },
  {
   "cell_type": "code",
   "execution_count": 527,
   "metadata": {},
   "outputs": [
    {
     "data": {
      "text/html": [
       "<div>\n",
       "<style scoped>\n",
       "    .dataframe tbody tr th:only-of-type {\n",
       "        vertical-align: middle;\n",
       "    }\n",
       "\n",
       "    .dataframe tbody tr th {\n",
       "        vertical-align: top;\n",
       "    }\n",
       "\n",
       "    .dataframe thead th {\n",
       "        text-align: right;\n",
       "    }\n",
       "</style>\n",
       "<table border=\"1\" class=\"dataframe\">\n",
       "  <thead>\n",
       "    <tr style=\"text-align: right;\">\n",
       "      <th></th>\n",
       "      <th>y</th>\n",
       "      <th>hours_per_week_bin_a. 0-30</th>\n",
       "      <th>hours_per_week_bin_b. 31-40</th>\n",
       "      <th>hours_per_week_bin_c. 71-100</th>\n",
       "      <th>hours_per_week_bin_d. 41-50 &amp; 61-70</th>\n",
       "      <th>hours_per_week_bin_e. 51-60</th>\n",
       "      <th>occupation_bin_a. Low</th>\n",
       "      <th>occupation_bin_b. Mid - Low</th>\n",
       "      <th>occupation_bin_c. Mid - Mid</th>\n",
       "      <th>occupation_bin_d. Mid - High</th>\n",
       "      <th>...</th>\n",
       "      <th>education_bin_e. High</th>\n",
       "      <th>workclass_bin_a. no income</th>\n",
       "      <th>workclass_bin_b. income</th>\n",
       "      <th>age_bin_a. 0-25</th>\n",
       "      <th>age_bin_b. 26-30 &amp; 71-100</th>\n",
       "      <th>age_bin_c. 31-35 &amp; 61-70</th>\n",
       "      <th>age_bin_d. 36-40 &amp; 56-60</th>\n",
       "      <th>age_bin_e. 40-55</th>\n",
       "      <th>flag_test</th>\n",
       "      <th>flag_train</th>\n",
       "    </tr>\n",
       "  </thead>\n",
       "  <tbody>\n",
       "    <tr>\n",
       "      <th>0</th>\n",
       "      <td>0</td>\n",
       "      <td>0</td>\n",
       "      <td>1</td>\n",
       "      <td>0</td>\n",
       "      <td>0</td>\n",
       "      <td>0</td>\n",
       "      <td>0</td>\n",
       "      <td>1</td>\n",
       "      <td>0</td>\n",
       "      <td>0</td>\n",
       "      <td>...</td>\n",
       "      <td>0</td>\n",
       "      <td>0</td>\n",
       "      <td>1</td>\n",
       "      <td>0</td>\n",
       "      <td>0</td>\n",
       "      <td>0</td>\n",
       "      <td>1</td>\n",
       "      <td>0</td>\n",
       "      <td>0</td>\n",
       "      <td>1</td>\n",
       "    </tr>\n",
       "    <tr>\n",
       "      <th>1</th>\n",
       "      <td>0</td>\n",
       "      <td>1</td>\n",
       "      <td>0</td>\n",
       "      <td>0</td>\n",
       "      <td>0</td>\n",
       "      <td>0</td>\n",
       "      <td>0</td>\n",
       "      <td>0</td>\n",
       "      <td>0</td>\n",
       "      <td>0</td>\n",
       "      <td>...</td>\n",
       "      <td>0</td>\n",
       "      <td>0</td>\n",
       "      <td>1</td>\n",
       "      <td>0</td>\n",
       "      <td>0</td>\n",
       "      <td>0</td>\n",
       "      <td>0</td>\n",
       "      <td>1</td>\n",
       "      <td>0</td>\n",
       "      <td>1</td>\n",
       "    </tr>\n",
       "    <tr>\n",
       "      <th>2</th>\n",
       "      <td>0</td>\n",
       "      <td>0</td>\n",
       "      <td>1</td>\n",
       "      <td>0</td>\n",
       "      <td>0</td>\n",
       "      <td>0</td>\n",
       "      <td>1</td>\n",
       "      <td>0</td>\n",
       "      <td>0</td>\n",
       "      <td>0</td>\n",
       "      <td>...</td>\n",
       "      <td>0</td>\n",
       "      <td>0</td>\n",
       "      <td>1</td>\n",
       "      <td>0</td>\n",
       "      <td>0</td>\n",
       "      <td>0</td>\n",
       "      <td>1</td>\n",
       "      <td>0</td>\n",
       "      <td>0</td>\n",
       "      <td>1</td>\n",
       "    </tr>\n",
       "    <tr>\n",
       "      <th>3</th>\n",
       "      <td>0</td>\n",
       "      <td>0</td>\n",
       "      <td>1</td>\n",
       "      <td>0</td>\n",
       "      <td>0</td>\n",
       "      <td>0</td>\n",
       "      <td>1</td>\n",
       "      <td>0</td>\n",
       "      <td>0</td>\n",
       "      <td>0</td>\n",
       "      <td>...</td>\n",
       "      <td>0</td>\n",
       "      <td>0</td>\n",
       "      <td>1</td>\n",
       "      <td>0</td>\n",
       "      <td>0</td>\n",
       "      <td>0</td>\n",
       "      <td>0</td>\n",
       "      <td>1</td>\n",
       "      <td>0</td>\n",
       "      <td>1</td>\n",
       "    </tr>\n",
       "    <tr>\n",
       "      <th>4</th>\n",
       "      <td>0</td>\n",
       "      <td>0</td>\n",
       "      <td>1</td>\n",
       "      <td>0</td>\n",
       "      <td>0</td>\n",
       "      <td>0</td>\n",
       "      <td>0</td>\n",
       "      <td>0</td>\n",
       "      <td>0</td>\n",
       "      <td>0</td>\n",
       "      <td>...</td>\n",
       "      <td>0</td>\n",
       "      <td>0</td>\n",
       "      <td>1</td>\n",
       "      <td>0</td>\n",
       "      <td>1</td>\n",
       "      <td>0</td>\n",
       "      <td>0</td>\n",
       "      <td>0</td>\n",
       "      <td>0</td>\n",
       "      <td>1</td>\n",
       "    </tr>\n",
       "    <tr>\n",
       "      <th>...</th>\n",
       "      <td>...</td>\n",
       "      <td>...</td>\n",
       "      <td>...</td>\n",
       "      <td>...</td>\n",
       "      <td>...</td>\n",
       "      <td>...</td>\n",
       "      <td>...</td>\n",
       "      <td>...</td>\n",
       "      <td>...</td>\n",
       "      <td>...</td>\n",
       "      <td>...</td>\n",
       "      <td>...</td>\n",
       "      <td>...</td>\n",
       "      <td>...</td>\n",
       "      <td>...</td>\n",
       "      <td>...</td>\n",
       "      <td>...</td>\n",
       "      <td>...</td>\n",
       "      <td>...</td>\n",
       "      <td>...</td>\n",
       "      <td>...</td>\n",
       "    </tr>\n",
       "    <tr>\n",
       "      <th>32556</th>\n",
       "      <td>0</td>\n",
       "      <td>0</td>\n",
       "      <td>1</td>\n",
       "      <td>0</td>\n",
       "      <td>0</td>\n",
       "      <td>0</td>\n",
       "      <td>0</td>\n",
       "      <td>0</td>\n",
       "      <td>0</td>\n",
       "      <td>1</td>\n",
       "      <td>...</td>\n",
       "      <td>0</td>\n",
       "      <td>0</td>\n",
       "      <td>1</td>\n",
       "      <td>0</td>\n",
       "      <td>1</td>\n",
       "      <td>0</td>\n",
       "      <td>0</td>\n",
       "      <td>0</td>\n",
       "      <td>0</td>\n",
       "      <td>1</td>\n",
       "    </tr>\n",
       "    <tr>\n",
       "      <th>32557</th>\n",
       "      <td>1</td>\n",
       "      <td>0</td>\n",
       "      <td>1</td>\n",
       "      <td>0</td>\n",
       "      <td>0</td>\n",
       "      <td>0</td>\n",
       "      <td>0</td>\n",
       "      <td>1</td>\n",
       "      <td>0</td>\n",
       "      <td>0</td>\n",
       "      <td>...</td>\n",
       "      <td>0</td>\n",
       "      <td>0</td>\n",
       "      <td>1</td>\n",
       "      <td>0</td>\n",
       "      <td>0</td>\n",
       "      <td>0</td>\n",
       "      <td>1</td>\n",
       "      <td>0</td>\n",
       "      <td>0</td>\n",
       "      <td>1</td>\n",
       "    </tr>\n",
       "    <tr>\n",
       "      <th>32558</th>\n",
       "      <td>0</td>\n",
       "      <td>0</td>\n",
       "      <td>1</td>\n",
       "      <td>0</td>\n",
       "      <td>0</td>\n",
       "      <td>0</td>\n",
       "      <td>0</td>\n",
       "      <td>1</td>\n",
       "      <td>0</td>\n",
       "      <td>0</td>\n",
       "      <td>...</td>\n",
       "      <td>0</td>\n",
       "      <td>0</td>\n",
       "      <td>1</td>\n",
       "      <td>0</td>\n",
       "      <td>0</td>\n",
       "      <td>0</td>\n",
       "      <td>1</td>\n",
       "      <td>0</td>\n",
       "      <td>0</td>\n",
       "      <td>1</td>\n",
       "    </tr>\n",
       "    <tr>\n",
       "      <th>32559</th>\n",
       "      <td>0</td>\n",
       "      <td>1</td>\n",
       "      <td>0</td>\n",
       "      <td>0</td>\n",
       "      <td>0</td>\n",
       "      <td>0</td>\n",
       "      <td>0</td>\n",
       "      <td>1</td>\n",
       "      <td>0</td>\n",
       "      <td>0</td>\n",
       "      <td>...</td>\n",
       "      <td>0</td>\n",
       "      <td>0</td>\n",
       "      <td>1</td>\n",
       "      <td>1</td>\n",
       "      <td>0</td>\n",
       "      <td>0</td>\n",
       "      <td>0</td>\n",
       "      <td>0</td>\n",
       "      <td>0</td>\n",
       "      <td>1</td>\n",
       "    </tr>\n",
       "    <tr>\n",
       "      <th>32560</th>\n",
       "      <td>1</td>\n",
       "      <td>0</td>\n",
       "      <td>1</td>\n",
       "      <td>0</td>\n",
       "      <td>0</td>\n",
       "      <td>0</td>\n",
       "      <td>0</td>\n",
       "      <td>0</td>\n",
       "      <td>0</td>\n",
       "      <td>0</td>\n",
       "      <td>...</td>\n",
       "      <td>0</td>\n",
       "      <td>0</td>\n",
       "      <td>1</td>\n",
       "      <td>0</td>\n",
       "      <td>0</td>\n",
       "      <td>0</td>\n",
       "      <td>0</td>\n",
       "      <td>1</td>\n",
       "      <td>0</td>\n",
       "      <td>1</td>\n",
       "    </tr>\n",
       "  </tbody>\n",
       "</table>\n",
       "<p>32561 rows × 39 columns</p>\n",
       "</div>"
      ],
      "text/plain": [
       "       y  hours_per_week_bin_a. 0-30  hours_per_week_bin_b. 31-40  \\\n",
       "0      0                           0                            1   \n",
       "1      0                           1                            0   \n",
       "2      0                           0                            1   \n",
       "3      0                           0                            1   \n",
       "4      0                           0                            1   \n",
       "...   ..                         ...                          ...   \n",
       "32556  0                           0                            1   \n",
       "32557  1                           0                            1   \n",
       "32558  0                           0                            1   \n",
       "32559  0                           1                            0   \n",
       "32560  1                           0                            1   \n",
       "\n",
       "       hours_per_week_bin_c. 71-100  hours_per_week_bin_d. 41-50 & 61-70  \\\n",
       "0                                 0                                    0   \n",
       "1                                 0                                    0   \n",
       "2                                 0                                    0   \n",
       "3                                 0                                    0   \n",
       "4                                 0                                    0   \n",
       "...                             ...                                  ...   \n",
       "32556                             0                                    0   \n",
       "32557                             0                                    0   \n",
       "32558                             0                                    0   \n",
       "32559                             0                                    0   \n",
       "32560                             0                                    0   \n",
       "\n",
       "       hours_per_week_bin_e. 51-60  occupation_bin_a. Low  \\\n",
       "0                                0                      0   \n",
       "1                                0                      0   \n",
       "2                                0                      1   \n",
       "3                                0                      1   \n",
       "4                                0                      0   \n",
       "...                            ...                    ...   \n",
       "32556                            0                      0   \n",
       "32557                            0                      0   \n",
       "32558                            0                      0   \n",
       "32559                            0                      0   \n",
       "32560                            0                      0   \n",
       "\n",
       "       occupation_bin_b. Mid - Low  occupation_bin_c. Mid - Mid  \\\n",
       "0                                1                            0   \n",
       "1                                0                            0   \n",
       "2                                0                            0   \n",
       "3                                0                            0   \n",
       "4                                0                            0   \n",
       "...                            ...                          ...   \n",
       "32556                            0                            0   \n",
       "32557                            1                            0   \n",
       "32558                            1                            0   \n",
       "32559                            1                            0   \n",
       "32560                            0                            0   \n",
       "\n",
       "       occupation_bin_d. Mid - High  ...  education_bin_e. High  \\\n",
       "0                                 0  ...                      0   \n",
       "1                                 0  ...                      0   \n",
       "2                                 0  ...                      0   \n",
       "3                                 0  ...                      0   \n",
       "4                                 0  ...                      0   \n",
       "...                             ...  ...                    ...   \n",
       "32556                             1  ...                      0   \n",
       "32557                             0  ...                      0   \n",
       "32558                             0  ...                      0   \n",
       "32559                             0  ...                      0   \n",
       "32560                             0  ...                      0   \n",
       "\n",
       "       workclass_bin_a. no income  workclass_bin_b. income  age_bin_a. 0-25  \\\n",
       "0                               0                        1                0   \n",
       "1                               0                        1                0   \n",
       "2                               0                        1                0   \n",
       "3                               0                        1                0   \n",
       "4                               0                        1                0   \n",
       "...                           ...                      ...              ...   \n",
       "32556                           0                        1                0   \n",
       "32557                           0                        1                0   \n",
       "32558                           0                        1                0   \n",
       "32559                           0                        1                1   \n",
       "32560                           0                        1                0   \n",
       "\n",
       "       age_bin_b. 26-30 & 71-100  age_bin_c. 31-35 & 61-70  \\\n",
       "0                              0                         0   \n",
       "1                              0                         0   \n",
       "2                              0                         0   \n",
       "3                              0                         0   \n",
       "4                              1                         0   \n",
       "...                          ...                       ...   \n",
       "32556                          1                         0   \n",
       "32557                          0                         0   \n",
       "32558                          0                         0   \n",
       "32559                          0                         0   \n",
       "32560                          0                         0   \n",
       "\n",
       "       age_bin_d. 36-40 & 56-60  age_bin_e. 40-55  flag_test  flag_train  \n",
       "0                             1                 0          0           1  \n",
       "1                             0                 1          0           1  \n",
       "2                             1                 0          0           1  \n",
       "3                             0                 1          0           1  \n",
       "4                             0                 0          0           1  \n",
       "...                         ...               ...        ...         ...  \n",
       "32556                         0                 0          0           1  \n",
       "32557                         1                 0          0           1  \n",
       "32558                         1                 0          0           1  \n",
       "32559                         0                 0          0           1  \n",
       "32560                         0                 1          0           1  \n",
       "\n",
       "[32561 rows x 39 columns]"
      ]
     },
     "execution_count": 527,
     "metadata": {},
     "output_type": "execute_result"
    }
   ],
   "source": [
    "# loading training set\n",
    "training_set"
   ]
  },
  {
   "cell_type": "code",
   "execution_count": 528,
   "metadata": {
    "scrolled": true
   },
   "outputs": [
    {
     "data": {
      "text/html": [
       "<div>\n",
       "<style scoped>\n",
       "    .dataframe tbody tr th:only-of-type {\n",
       "        vertical-align: middle;\n",
       "    }\n",
       "\n",
       "    .dataframe tbody tr th {\n",
       "        vertical-align: top;\n",
       "    }\n",
       "\n",
       "    .dataframe thead th {\n",
       "        text-align: right;\n",
       "    }\n",
       "</style>\n",
       "<table border=\"1\" class=\"dataframe\">\n",
       "  <thead>\n",
       "    <tr style=\"text-align: right;\">\n",
       "      <th></th>\n",
       "      <th>y</th>\n",
       "      <th>hours_per_week_bin_a. 0-30</th>\n",
       "      <th>hours_per_week_bin_b. 31-40</th>\n",
       "      <th>hours_per_week_bin_c. 71-100</th>\n",
       "      <th>hours_per_week_bin_d. 41-50 &amp; 61-70</th>\n",
       "      <th>hours_per_week_bin_e. 51-60</th>\n",
       "      <th>occupation_bin_a. Low</th>\n",
       "      <th>occupation_bin_b. Mid - Low</th>\n",
       "      <th>occupation_bin_c. Mid - Mid</th>\n",
       "      <th>occupation_bin_d. Mid - High</th>\n",
       "      <th>...</th>\n",
       "      <th>education_bin_e. High</th>\n",
       "      <th>workclass_bin_a. no income</th>\n",
       "      <th>workclass_bin_b. income</th>\n",
       "      <th>age_bin_a. 0-25</th>\n",
       "      <th>age_bin_b. 26-30 &amp; 71-100</th>\n",
       "      <th>age_bin_c. 31-35 &amp; 61-70</th>\n",
       "      <th>age_bin_d. 36-40 &amp; 56-60</th>\n",
       "      <th>age_bin_e. 40-55</th>\n",
       "      <th>flag_test</th>\n",
       "      <th>flag_train</th>\n",
       "    </tr>\n",
       "  </thead>\n",
       "  <tbody>\n",
       "    <tr>\n",
       "      <th>32561</th>\n",
       "      <td>0</td>\n",
       "      <td>0</td>\n",
       "      <td>1</td>\n",
       "      <td>0</td>\n",
       "      <td>0</td>\n",
       "      <td>0</td>\n",
       "      <td>0</td>\n",
       "      <td>1</td>\n",
       "      <td>0</td>\n",
       "      <td>0</td>\n",
       "      <td>...</td>\n",
       "      <td>0</td>\n",
       "      <td>0</td>\n",
       "      <td>1</td>\n",
       "      <td>1</td>\n",
       "      <td>0</td>\n",
       "      <td>0</td>\n",
       "      <td>0</td>\n",
       "      <td>0</td>\n",
       "      <td>1</td>\n",
       "      <td>0</td>\n",
       "    </tr>\n",
       "    <tr>\n",
       "      <th>32562</th>\n",
       "      <td>0</td>\n",
       "      <td>0</td>\n",
       "      <td>0</td>\n",
       "      <td>0</td>\n",
       "      <td>1</td>\n",
       "      <td>0</td>\n",
       "      <td>0</td>\n",
       "      <td>1</td>\n",
       "      <td>0</td>\n",
       "      <td>0</td>\n",
       "      <td>...</td>\n",
       "      <td>0</td>\n",
       "      <td>0</td>\n",
       "      <td>1</td>\n",
       "      <td>0</td>\n",
       "      <td>0</td>\n",
       "      <td>0</td>\n",
       "      <td>1</td>\n",
       "      <td>0</td>\n",
       "      <td>1</td>\n",
       "      <td>0</td>\n",
       "    </tr>\n",
       "    <tr>\n",
       "      <th>32563</th>\n",
       "      <td>1</td>\n",
       "      <td>0</td>\n",
       "      <td>1</td>\n",
       "      <td>0</td>\n",
       "      <td>0</td>\n",
       "      <td>0</td>\n",
       "      <td>0</td>\n",
       "      <td>0</td>\n",
       "      <td>0</td>\n",
       "      <td>1</td>\n",
       "      <td>...</td>\n",
       "      <td>0</td>\n",
       "      <td>0</td>\n",
       "      <td>1</td>\n",
       "      <td>0</td>\n",
       "      <td>1</td>\n",
       "      <td>0</td>\n",
       "      <td>0</td>\n",
       "      <td>0</td>\n",
       "      <td>1</td>\n",
       "      <td>0</td>\n",
       "    </tr>\n",
       "    <tr>\n",
       "      <th>32564</th>\n",
       "      <td>1</td>\n",
       "      <td>0</td>\n",
       "      <td>1</td>\n",
       "      <td>0</td>\n",
       "      <td>0</td>\n",
       "      <td>0</td>\n",
       "      <td>0</td>\n",
       "      <td>1</td>\n",
       "      <td>0</td>\n",
       "      <td>0</td>\n",
       "      <td>...</td>\n",
       "      <td>0</td>\n",
       "      <td>0</td>\n",
       "      <td>1</td>\n",
       "      <td>0</td>\n",
       "      <td>0</td>\n",
       "      <td>0</td>\n",
       "      <td>0</td>\n",
       "      <td>1</td>\n",
       "      <td>1</td>\n",
       "      <td>0</td>\n",
       "    </tr>\n",
       "    <tr>\n",
       "      <th>32565</th>\n",
       "      <td>0</td>\n",
       "      <td>1</td>\n",
       "      <td>0</td>\n",
       "      <td>0</td>\n",
       "      <td>0</td>\n",
       "      <td>0</td>\n",
       "      <td>0</td>\n",
       "      <td>1</td>\n",
       "      <td>0</td>\n",
       "      <td>0</td>\n",
       "      <td>...</td>\n",
       "      <td>0</td>\n",
       "      <td>1</td>\n",
       "      <td>0</td>\n",
       "      <td>1</td>\n",
       "      <td>0</td>\n",
       "      <td>0</td>\n",
       "      <td>0</td>\n",
       "      <td>0</td>\n",
       "      <td>1</td>\n",
       "      <td>0</td>\n",
       "    </tr>\n",
       "    <tr>\n",
       "      <th>...</th>\n",
       "      <td>...</td>\n",
       "      <td>...</td>\n",
       "      <td>...</td>\n",
       "      <td>...</td>\n",
       "      <td>...</td>\n",
       "      <td>...</td>\n",
       "      <td>...</td>\n",
       "      <td>...</td>\n",
       "      <td>...</td>\n",
       "      <td>...</td>\n",
       "      <td>...</td>\n",
       "      <td>...</td>\n",
       "      <td>...</td>\n",
       "      <td>...</td>\n",
       "      <td>...</td>\n",
       "      <td>...</td>\n",
       "      <td>...</td>\n",
       "      <td>...</td>\n",
       "      <td>...</td>\n",
       "      <td>...</td>\n",
       "      <td>...</td>\n",
       "    </tr>\n",
       "    <tr>\n",
       "      <th>48837</th>\n",
       "      <td>0</td>\n",
       "      <td>0</td>\n",
       "      <td>1</td>\n",
       "      <td>0</td>\n",
       "      <td>0</td>\n",
       "      <td>0</td>\n",
       "      <td>0</td>\n",
       "      <td>0</td>\n",
       "      <td>0</td>\n",
       "      <td>0</td>\n",
       "      <td>...</td>\n",
       "      <td>0</td>\n",
       "      <td>0</td>\n",
       "      <td>1</td>\n",
       "      <td>0</td>\n",
       "      <td>0</td>\n",
       "      <td>0</td>\n",
       "      <td>1</td>\n",
       "      <td>0</td>\n",
       "      <td>1</td>\n",
       "      <td>0</td>\n",
       "    </tr>\n",
       "    <tr>\n",
       "      <th>48838</th>\n",
       "      <td>0</td>\n",
       "      <td>0</td>\n",
       "      <td>1</td>\n",
       "      <td>0</td>\n",
       "      <td>0</td>\n",
       "      <td>0</td>\n",
       "      <td>0</td>\n",
       "      <td>1</td>\n",
       "      <td>0</td>\n",
       "      <td>0</td>\n",
       "      <td>...</td>\n",
       "      <td>0</td>\n",
       "      <td>1</td>\n",
       "      <td>0</td>\n",
       "      <td>0</td>\n",
       "      <td>0</td>\n",
       "      <td>1</td>\n",
       "      <td>0</td>\n",
       "      <td>0</td>\n",
       "      <td>1</td>\n",
       "      <td>0</td>\n",
       "    </tr>\n",
       "    <tr>\n",
       "      <th>48839</th>\n",
       "      <td>0</td>\n",
       "      <td>0</td>\n",
       "      <td>0</td>\n",
       "      <td>0</td>\n",
       "      <td>1</td>\n",
       "      <td>0</td>\n",
       "      <td>0</td>\n",
       "      <td>0</td>\n",
       "      <td>0</td>\n",
       "      <td>0</td>\n",
       "      <td>...</td>\n",
       "      <td>0</td>\n",
       "      <td>0</td>\n",
       "      <td>1</td>\n",
       "      <td>0</td>\n",
       "      <td>0</td>\n",
       "      <td>0</td>\n",
       "      <td>1</td>\n",
       "      <td>0</td>\n",
       "      <td>1</td>\n",
       "      <td>0</td>\n",
       "    </tr>\n",
       "    <tr>\n",
       "      <th>48840</th>\n",
       "      <td>0</td>\n",
       "      <td>0</td>\n",
       "      <td>1</td>\n",
       "      <td>0</td>\n",
       "      <td>0</td>\n",
       "      <td>0</td>\n",
       "      <td>0</td>\n",
       "      <td>1</td>\n",
       "      <td>0</td>\n",
       "      <td>0</td>\n",
       "      <td>...</td>\n",
       "      <td>0</td>\n",
       "      <td>0</td>\n",
       "      <td>1</td>\n",
       "      <td>0</td>\n",
       "      <td>0</td>\n",
       "      <td>0</td>\n",
       "      <td>0</td>\n",
       "      <td>1</td>\n",
       "      <td>1</td>\n",
       "      <td>0</td>\n",
       "    </tr>\n",
       "    <tr>\n",
       "      <th>48841</th>\n",
       "      <td>1</td>\n",
       "      <td>0</td>\n",
       "      <td>0</td>\n",
       "      <td>0</td>\n",
       "      <td>0</td>\n",
       "      <td>1</td>\n",
       "      <td>0</td>\n",
       "      <td>0</td>\n",
       "      <td>0</td>\n",
       "      <td>0</td>\n",
       "      <td>...</td>\n",
       "      <td>0</td>\n",
       "      <td>0</td>\n",
       "      <td>1</td>\n",
       "      <td>0</td>\n",
       "      <td>0</td>\n",
       "      <td>1</td>\n",
       "      <td>0</td>\n",
       "      <td>0</td>\n",
       "      <td>1</td>\n",
       "      <td>0</td>\n",
       "    </tr>\n",
       "  </tbody>\n",
       "</table>\n",
       "<p>16281 rows × 39 columns</p>\n",
       "</div>"
      ],
      "text/plain": [
       "       y  hours_per_week_bin_a. 0-30  hours_per_week_bin_b. 31-40  \\\n",
       "32561  0                           0                            1   \n",
       "32562  0                           0                            0   \n",
       "32563  1                           0                            1   \n",
       "32564  1                           0                            1   \n",
       "32565  0                           1                            0   \n",
       "...   ..                         ...                          ...   \n",
       "48837  0                           0                            1   \n",
       "48838  0                           0                            1   \n",
       "48839  0                           0                            0   \n",
       "48840  0                           0                            1   \n",
       "48841  1                           0                            0   \n",
       "\n",
       "       hours_per_week_bin_c. 71-100  hours_per_week_bin_d. 41-50 & 61-70  \\\n",
       "32561                             0                                    0   \n",
       "32562                             0                                    1   \n",
       "32563                             0                                    0   \n",
       "32564                             0                                    0   \n",
       "32565                             0                                    0   \n",
       "...                             ...                                  ...   \n",
       "48837                             0                                    0   \n",
       "48838                             0                                    0   \n",
       "48839                             0                                    1   \n",
       "48840                             0                                    0   \n",
       "48841                             0                                    0   \n",
       "\n",
       "       hours_per_week_bin_e. 51-60  occupation_bin_a. Low  \\\n",
       "32561                            0                      0   \n",
       "32562                            0                      0   \n",
       "32563                            0                      0   \n",
       "32564                            0                      0   \n",
       "32565                            0                      0   \n",
       "...                            ...                    ...   \n",
       "48837                            0                      0   \n",
       "48838                            0                      0   \n",
       "48839                            0                      0   \n",
       "48840                            0                      0   \n",
       "48841                            1                      0   \n",
       "\n",
       "       occupation_bin_b. Mid - Low  occupation_bin_c. Mid - Mid  \\\n",
       "32561                            1                            0   \n",
       "32562                            1                            0   \n",
       "32563                            0                            0   \n",
       "32564                            1                            0   \n",
       "32565                            1                            0   \n",
       "...                            ...                          ...   \n",
       "48837                            0                            0   \n",
       "48838                            1                            0   \n",
       "48839                            0                            0   \n",
       "48840                            1                            0   \n",
       "48841                            0                            0   \n",
       "\n",
       "       occupation_bin_d. Mid - High  ...  education_bin_e. High  \\\n",
       "32561                             0  ...                      0   \n",
       "32562                             0  ...                      0   \n",
       "32563                             1  ...                      0   \n",
       "32564                             0  ...                      0   \n",
       "32565                             0  ...                      0   \n",
       "...                             ...  ...                    ...   \n",
       "48837                             0  ...                      0   \n",
       "48838                             0  ...                      0   \n",
       "48839                             0  ...                      0   \n",
       "48840                             0  ...                      0   \n",
       "48841                             0  ...                      0   \n",
       "\n",
       "       workclass_bin_a. no income  workclass_bin_b. income  age_bin_a. 0-25  \\\n",
       "32561                           0                        1                1   \n",
       "32562                           0                        1                0   \n",
       "32563                           0                        1                0   \n",
       "32564                           0                        1                0   \n",
       "32565                           1                        0                1   \n",
       "...                           ...                      ...              ...   \n",
       "48837                           0                        1                0   \n",
       "48838                           1                        0                0   \n",
       "48839                           0                        1                0   \n",
       "48840                           0                        1                0   \n",
       "48841                           0                        1                0   \n",
       "\n",
       "       age_bin_b. 26-30 & 71-100  age_bin_c. 31-35 & 61-70  \\\n",
       "32561                          0                         0   \n",
       "32562                          0                         0   \n",
       "32563                          1                         0   \n",
       "32564                          0                         0   \n",
       "32565                          0                         0   \n",
       "...                          ...                       ...   \n",
       "48837                          0                         0   \n",
       "48838                          0                         1   \n",
       "48839                          0                         0   \n",
       "48840                          0                         0   \n",
       "48841                          0                         1   \n",
       "\n",
       "       age_bin_d. 36-40 & 56-60  age_bin_e. 40-55  flag_test  flag_train  \n",
       "32561                         0                 0          1           0  \n",
       "32562                         1                 0          1           0  \n",
       "32563                         0                 0          1           0  \n",
       "32564                         0                 1          1           0  \n",
       "32565                         0                 0          1           0  \n",
       "...                         ...               ...        ...         ...  \n",
       "48837                         1                 0          1           0  \n",
       "48838                         0                 0          1           0  \n",
       "48839                         1                 0          1           0  \n",
       "48840                         0                 1          1           0  \n",
       "48841                         0                 0          1           0  \n",
       "\n",
       "[16281 rows x 39 columns]"
      ]
     },
     "execution_count": 528,
     "metadata": {},
     "output_type": "execute_result"
    }
   ],
   "source": [
    "# loading test set\n",
    "test_set"
   ]
  },
  {
   "cell_type": "code",
   "execution_count": 529,
   "metadata": {},
   "outputs": [],
   "source": [
    "# defining X_train\n",
    "X_train = training_set.iloc[:, 1:]"
   ]
  },
  {
   "cell_type": "code",
   "execution_count": 530,
   "metadata": {
    "scrolled": true
   },
   "outputs": [
    {
     "data": {
      "text/html": [
       "<div>\n",
       "<style scoped>\n",
       "    .dataframe tbody tr th:only-of-type {\n",
       "        vertical-align: middle;\n",
       "    }\n",
       "\n",
       "    .dataframe tbody tr th {\n",
       "        vertical-align: top;\n",
       "    }\n",
       "\n",
       "    .dataframe thead th {\n",
       "        text-align: right;\n",
       "    }\n",
       "</style>\n",
       "<table border=\"1\" class=\"dataframe\">\n",
       "  <thead>\n",
       "    <tr style=\"text-align: right;\">\n",
       "      <th></th>\n",
       "      <th>hours_per_week_bin_a. 0-30</th>\n",
       "      <th>hours_per_week_bin_b. 31-40</th>\n",
       "      <th>hours_per_week_bin_c. 71-100</th>\n",
       "      <th>hours_per_week_bin_d. 41-50 &amp; 61-70</th>\n",
       "      <th>hours_per_week_bin_e. 51-60</th>\n",
       "      <th>occupation_bin_a. Low</th>\n",
       "      <th>occupation_bin_b. Mid - Low</th>\n",
       "      <th>occupation_bin_c. Mid - Mid</th>\n",
       "      <th>occupation_bin_d. Mid - High</th>\n",
       "      <th>occupation_bin_e. High</th>\n",
       "      <th>...</th>\n",
       "      <th>education_bin_e. High</th>\n",
       "      <th>workclass_bin_a. no income</th>\n",
       "      <th>workclass_bin_b. income</th>\n",
       "      <th>age_bin_a. 0-25</th>\n",
       "      <th>age_bin_b. 26-30 &amp; 71-100</th>\n",
       "      <th>age_bin_c. 31-35 &amp; 61-70</th>\n",
       "      <th>age_bin_d. 36-40 &amp; 56-60</th>\n",
       "      <th>age_bin_e. 40-55</th>\n",
       "      <th>flag_test</th>\n",
       "      <th>flag_train</th>\n",
       "    </tr>\n",
       "  </thead>\n",
       "  <tbody>\n",
       "    <tr>\n",
       "      <th>0</th>\n",
       "      <td>0</td>\n",
       "      <td>1</td>\n",
       "      <td>0</td>\n",
       "      <td>0</td>\n",
       "      <td>0</td>\n",
       "      <td>0</td>\n",
       "      <td>1</td>\n",
       "      <td>0</td>\n",
       "      <td>0</td>\n",
       "      <td>0</td>\n",
       "      <td>...</td>\n",
       "      <td>0</td>\n",
       "      <td>0</td>\n",
       "      <td>1</td>\n",
       "      <td>0</td>\n",
       "      <td>0</td>\n",
       "      <td>0</td>\n",
       "      <td>1</td>\n",
       "      <td>0</td>\n",
       "      <td>0</td>\n",
       "      <td>1</td>\n",
       "    </tr>\n",
       "    <tr>\n",
       "      <th>1</th>\n",
       "      <td>1</td>\n",
       "      <td>0</td>\n",
       "      <td>0</td>\n",
       "      <td>0</td>\n",
       "      <td>0</td>\n",
       "      <td>0</td>\n",
       "      <td>0</td>\n",
       "      <td>0</td>\n",
       "      <td>0</td>\n",
       "      <td>1</td>\n",
       "      <td>...</td>\n",
       "      <td>0</td>\n",
       "      <td>0</td>\n",
       "      <td>1</td>\n",
       "      <td>0</td>\n",
       "      <td>0</td>\n",
       "      <td>0</td>\n",
       "      <td>0</td>\n",
       "      <td>1</td>\n",
       "      <td>0</td>\n",
       "      <td>1</td>\n",
       "    </tr>\n",
       "    <tr>\n",
       "      <th>2</th>\n",
       "      <td>0</td>\n",
       "      <td>1</td>\n",
       "      <td>0</td>\n",
       "      <td>0</td>\n",
       "      <td>0</td>\n",
       "      <td>1</td>\n",
       "      <td>0</td>\n",
       "      <td>0</td>\n",
       "      <td>0</td>\n",
       "      <td>0</td>\n",
       "      <td>...</td>\n",
       "      <td>0</td>\n",
       "      <td>0</td>\n",
       "      <td>1</td>\n",
       "      <td>0</td>\n",
       "      <td>0</td>\n",
       "      <td>0</td>\n",
       "      <td>1</td>\n",
       "      <td>0</td>\n",
       "      <td>0</td>\n",
       "      <td>1</td>\n",
       "    </tr>\n",
       "    <tr>\n",
       "      <th>3</th>\n",
       "      <td>0</td>\n",
       "      <td>1</td>\n",
       "      <td>0</td>\n",
       "      <td>0</td>\n",
       "      <td>0</td>\n",
       "      <td>1</td>\n",
       "      <td>0</td>\n",
       "      <td>0</td>\n",
       "      <td>0</td>\n",
       "      <td>0</td>\n",
       "      <td>...</td>\n",
       "      <td>0</td>\n",
       "      <td>0</td>\n",
       "      <td>1</td>\n",
       "      <td>0</td>\n",
       "      <td>0</td>\n",
       "      <td>0</td>\n",
       "      <td>0</td>\n",
       "      <td>1</td>\n",
       "      <td>0</td>\n",
       "      <td>1</td>\n",
       "    </tr>\n",
       "    <tr>\n",
       "      <th>4</th>\n",
       "      <td>0</td>\n",
       "      <td>1</td>\n",
       "      <td>0</td>\n",
       "      <td>0</td>\n",
       "      <td>0</td>\n",
       "      <td>0</td>\n",
       "      <td>0</td>\n",
       "      <td>0</td>\n",
       "      <td>0</td>\n",
       "      <td>1</td>\n",
       "      <td>...</td>\n",
       "      <td>0</td>\n",
       "      <td>0</td>\n",
       "      <td>1</td>\n",
       "      <td>0</td>\n",
       "      <td>1</td>\n",
       "      <td>0</td>\n",
       "      <td>0</td>\n",
       "      <td>0</td>\n",
       "      <td>0</td>\n",
       "      <td>1</td>\n",
       "    </tr>\n",
       "    <tr>\n",
       "      <th>...</th>\n",
       "      <td>...</td>\n",
       "      <td>...</td>\n",
       "      <td>...</td>\n",
       "      <td>...</td>\n",
       "      <td>...</td>\n",
       "      <td>...</td>\n",
       "      <td>...</td>\n",
       "      <td>...</td>\n",
       "      <td>...</td>\n",
       "      <td>...</td>\n",
       "      <td>...</td>\n",
       "      <td>...</td>\n",
       "      <td>...</td>\n",
       "      <td>...</td>\n",
       "      <td>...</td>\n",
       "      <td>...</td>\n",
       "      <td>...</td>\n",
       "      <td>...</td>\n",
       "      <td>...</td>\n",
       "      <td>...</td>\n",
       "      <td>...</td>\n",
       "    </tr>\n",
       "    <tr>\n",
       "      <th>32556</th>\n",
       "      <td>0</td>\n",
       "      <td>1</td>\n",
       "      <td>0</td>\n",
       "      <td>0</td>\n",
       "      <td>0</td>\n",
       "      <td>0</td>\n",
       "      <td>0</td>\n",
       "      <td>0</td>\n",
       "      <td>1</td>\n",
       "      <td>0</td>\n",
       "      <td>...</td>\n",
       "      <td>0</td>\n",
       "      <td>0</td>\n",
       "      <td>1</td>\n",
       "      <td>0</td>\n",
       "      <td>1</td>\n",
       "      <td>0</td>\n",
       "      <td>0</td>\n",
       "      <td>0</td>\n",
       "      <td>0</td>\n",
       "      <td>1</td>\n",
       "    </tr>\n",
       "    <tr>\n",
       "      <th>32557</th>\n",
       "      <td>0</td>\n",
       "      <td>1</td>\n",
       "      <td>0</td>\n",
       "      <td>0</td>\n",
       "      <td>0</td>\n",
       "      <td>0</td>\n",
       "      <td>1</td>\n",
       "      <td>0</td>\n",
       "      <td>0</td>\n",
       "      <td>0</td>\n",
       "      <td>...</td>\n",
       "      <td>0</td>\n",
       "      <td>0</td>\n",
       "      <td>1</td>\n",
       "      <td>0</td>\n",
       "      <td>0</td>\n",
       "      <td>0</td>\n",
       "      <td>1</td>\n",
       "      <td>0</td>\n",
       "      <td>0</td>\n",
       "      <td>1</td>\n",
       "    </tr>\n",
       "    <tr>\n",
       "      <th>32558</th>\n",
       "      <td>0</td>\n",
       "      <td>1</td>\n",
       "      <td>0</td>\n",
       "      <td>0</td>\n",
       "      <td>0</td>\n",
       "      <td>0</td>\n",
       "      <td>1</td>\n",
       "      <td>0</td>\n",
       "      <td>0</td>\n",
       "      <td>0</td>\n",
       "      <td>...</td>\n",
       "      <td>0</td>\n",
       "      <td>0</td>\n",
       "      <td>1</td>\n",
       "      <td>0</td>\n",
       "      <td>0</td>\n",
       "      <td>0</td>\n",
       "      <td>1</td>\n",
       "      <td>0</td>\n",
       "      <td>0</td>\n",
       "      <td>1</td>\n",
       "    </tr>\n",
       "    <tr>\n",
       "      <th>32559</th>\n",
       "      <td>1</td>\n",
       "      <td>0</td>\n",
       "      <td>0</td>\n",
       "      <td>0</td>\n",
       "      <td>0</td>\n",
       "      <td>0</td>\n",
       "      <td>1</td>\n",
       "      <td>0</td>\n",
       "      <td>0</td>\n",
       "      <td>0</td>\n",
       "      <td>...</td>\n",
       "      <td>0</td>\n",
       "      <td>0</td>\n",
       "      <td>1</td>\n",
       "      <td>1</td>\n",
       "      <td>0</td>\n",
       "      <td>0</td>\n",
       "      <td>0</td>\n",
       "      <td>0</td>\n",
       "      <td>0</td>\n",
       "      <td>1</td>\n",
       "    </tr>\n",
       "    <tr>\n",
       "      <th>32560</th>\n",
       "      <td>0</td>\n",
       "      <td>1</td>\n",
       "      <td>0</td>\n",
       "      <td>0</td>\n",
       "      <td>0</td>\n",
       "      <td>0</td>\n",
       "      <td>0</td>\n",
       "      <td>0</td>\n",
       "      <td>0</td>\n",
       "      <td>1</td>\n",
       "      <td>...</td>\n",
       "      <td>0</td>\n",
       "      <td>0</td>\n",
       "      <td>1</td>\n",
       "      <td>0</td>\n",
       "      <td>0</td>\n",
       "      <td>0</td>\n",
       "      <td>0</td>\n",
       "      <td>1</td>\n",
       "      <td>0</td>\n",
       "      <td>1</td>\n",
       "    </tr>\n",
       "  </tbody>\n",
       "</table>\n",
       "<p>32561 rows × 38 columns</p>\n",
       "</div>"
      ],
      "text/plain": [
       "       hours_per_week_bin_a. 0-30  hours_per_week_bin_b. 31-40  \\\n",
       "0                               0                            1   \n",
       "1                               1                            0   \n",
       "2                               0                            1   \n",
       "3                               0                            1   \n",
       "4                               0                            1   \n",
       "...                           ...                          ...   \n",
       "32556                           0                            1   \n",
       "32557                           0                            1   \n",
       "32558                           0                            1   \n",
       "32559                           1                            0   \n",
       "32560                           0                            1   \n",
       "\n",
       "       hours_per_week_bin_c. 71-100  hours_per_week_bin_d. 41-50 & 61-70  \\\n",
       "0                                 0                                    0   \n",
       "1                                 0                                    0   \n",
       "2                                 0                                    0   \n",
       "3                                 0                                    0   \n",
       "4                                 0                                    0   \n",
       "...                             ...                                  ...   \n",
       "32556                             0                                    0   \n",
       "32557                             0                                    0   \n",
       "32558                             0                                    0   \n",
       "32559                             0                                    0   \n",
       "32560                             0                                    0   \n",
       "\n",
       "       hours_per_week_bin_e. 51-60  occupation_bin_a. Low  \\\n",
       "0                                0                      0   \n",
       "1                                0                      0   \n",
       "2                                0                      1   \n",
       "3                                0                      1   \n",
       "4                                0                      0   \n",
       "...                            ...                    ...   \n",
       "32556                            0                      0   \n",
       "32557                            0                      0   \n",
       "32558                            0                      0   \n",
       "32559                            0                      0   \n",
       "32560                            0                      0   \n",
       "\n",
       "       occupation_bin_b. Mid - Low  occupation_bin_c. Mid - Mid  \\\n",
       "0                                1                            0   \n",
       "1                                0                            0   \n",
       "2                                0                            0   \n",
       "3                                0                            0   \n",
       "4                                0                            0   \n",
       "...                            ...                          ...   \n",
       "32556                            0                            0   \n",
       "32557                            1                            0   \n",
       "32558                            1                            0   \n",
       "32559                            1                            0   \n",
       "32560                            0                            0   \n",
       "\n",
       "       occupation_bin_d. Mid - High  occupation_bin_e. High  ...  \\\n",
       "0                                 0                       0  ...   \n",
       "1                                 0                       1  ...   \n",
       "2                                 0                       0  ...   \n",
       "3                                 0                       0  ...   \n",
       "4                                 0                       1  ...   \n",
       "...                             ...                     ...  ...   \n",
       "32556                             1                       0  ...   \n",
       "32557                             0                       0  ...   \n",
       "32558                             0                       0  ...   \n",
       "32559                             0                       0  ...   \n",
       "32560                             0                       1  ...   \n",
       "\n",
       "       education_bin_e. High  workclass_bin_a. no income  \\\n",
       "0                          0                           0   \n",
       "1                          0                           0   \n",
       "2                          0                           0   \n",
       "3                          0                           0   \n",
       "4                          0                           0   \n",
       "...                      ...                         ...   \n",
       "32556                      0                           0   \n",
       "32557                      0                           0   \n",
       "32558                      0                           0   \n",
       "32559                      0                           0   \n",
       "32560                      0                           0   \n",
       "\n",
       "       workclass_bin_b. income  age_bin_a. 0-25  age_bin_b. 26-30 & 71-100  \\\n",
       "0                            1                0                          0   \n",
       "1                            1                0                          0   \n",
       "2                            1                0                          0   \n",
       "3                            1                0                          0   \n",
       "4                            1                0                          1   \n",
       "...                        ...              ...                        ...   \n",
       "32556                        1                0                          1   \n",
       "32557                        1                0                          0   \n",
       "32558                        1                0                          0   \n",
       "32559                        1                1                          0   \n",
       "32560                        1                0                          0   \n",
       "\n",
       "       age_bin_c. 31-35 & 61-70  age_bin_d. 36-40 & 56-60  age_bin_e. 40-55  \\\n",
       "0                             0                         1                 0   \n",
       "1                             0                         0                 1   \n",
       "2                             0                         1                 0   \n",
       "3                             0                         0                 1   \n",
       "4                             0                         0                 0   \n",
       "...                         ...                       ...               ...   \n",
       "32556                         0                         0                 0   \n",
       "32557                         0                         1                 0   \n",
       "32558                         0                         1                 0   \n",
       "32559                         0                         0                 0   \n",
       "32560                         0                         0                 1   \n",
       "\n",
       "       flag_test  flag_train  \n",
       "0              0           1  \n",
       "1              0           1  \n",
       "2              0           1  \n",
       "3              0           1  \n",
       "4              0           1  \n",
       "...          ...         ...  \n",
       "32556          0           1  \n",
       "32557          0           1  \n",
       "32558          0           1  \n",
       "32559          0           1  \n",
       "32560          0           1  \n",
       "\n",
       "[32561 rows x 38 columns]"
      ]
     },
     "execution_count": 530,
     "metadata": {},
     "output_type": "execute_result"
    }
   ],
   "source": [
    "# loading X_train\n",
    "X_train"
   ]
  },
  {
   "cell_type": "code",
   "execution_count": 531,
   "metadata": {},
   "outputs": [],
   "source": [
    "# defining y_train\n",
    "y_train = training_set.iloc[:, 0]"
   ]
  },
  {
   "cell_type": "code",
   "execution_count": 532,
   "metadata": {},
   "outputs": [
    {
     "data": {
      "text/plain": [
       "0        0\n",
       "1        0\n",
       "2        0\n",
       "3        0\n",
       "4        0\n",
       "        ..\n",
       "32556    0\n",
       "32557    1\n",
       "32558    0\n",
       "32559    0\n",
       "32560    1\n",
       "Name: y, Length: 32561, dtype: int64"
      ]
     },
     "execution_count": 532,
     "metadata": {},
     "output_type": "execute_result"
    }
   ],
   "source": [
    "# loading y_train\n",
    "y_train"
   ]
  },
  {
   "cell_type": "code",
   "execution_count": 533,
   "metadata": {},
   "outputs": [],
   "source": [
    "# defining X_test\n",
    "X_test = test_set.iloc[:, 1:]"
   ]
  },
  {
   "cell_type": "code",
   "execution_count": 534,
   "metadata": {},
   "outputs": [
    {
     "data": {
      "text/html": [
       "<div>\n",
       "<style scoped>\n",
       "    .dataframe tbody tr th:only-of-type {\n",
       "        vertical-align: middle;\n",
       "    }\n",
       "\n",
       "    .dataframe tbody tr th {\n",
       "        vertical-align: top;\n",
       "    }\n",
       "\n",
       "    .dataframe thead th {\n",
       "        text-align: right;\n",
       "    }\n",
       "</style>\n",
       "<table border=\"1\" class=\"dataframe\">\n",
       "  <thead>\n",
       "    <tr style=\"text-align: right;\">\n",
       "      <th></th>\n",
       "      <th>hours_per_week_bin_a. 0-30</th>\n",
       "      <th>hours_per_week_bin_b. 31-40</th>\n",
       "      <th>hours_per_week_bin_c. 71-100</th>\n",
       "      <th>hours_per_week_bin_d. 41-50 &amp; 61-70</th>\n",
       "      <th>hours_per_week_bin_e. 51-60</th>\n",
       "      <th>occupation_bin_a. Low</th>\n",
       "      <th>occupation_bin_b. Mid - Low</th>\n",
       "      <th>occupation_bin_c. Mid - Mid</th>\n",
       "      <th>occupation_bin_d. Mid - High</th>\n",
       "      <th>occupation_bin_e. High</th>\n",
       "      <th>...</th>\n",
       "      <th>education_bin_e. High</th>\n",
       "      <th>workclass_bin_a. no income</th>\n",
       "      <th>workclass_bin_b. income</th>\n",
       "      <th>age_bin_a. 0-25</th>\n",
       "      <th>age_bin_b. 26-30 &amp; 71-100</th>\n",
       "      <th>age_bin_c. 31-35 &amp; 61-70</th>\n",
       "      <th>age_bin_d. 36-40 &amp; 56-60</th>\n",
       "      <th>age_bin_e. 40-55</th>\n",
       "      <th>flag_test</th>\n",
       "      <th>flag_train</th>\n",
       "    </tr>\n",
       "  </thead>\n",
       "  <tbody>\n",
       "    <tr>\n",
       "      <th>32561</th>\n",
       "      <td>0</td>\n",
       "      <td>1</td>\n",
       "      <td>0</td>\n",
       "      <td>0</td>\n",
       "      <td>0</td>\n",
       "      <td>0</td>\n",
       "      <td>1</td>\n",
       "      <td>0</td>\n",
       "      <td>0</td>\n",
       "      <td>0</td>\n",
       "      <td>...</td>\n",
       "      <td>0</td>\n",
       "      <td>0</td>\n",
       "      <td>1</td>\n",
       "      <td>1</td>\n",
       "      <td>0</td>\n",
       "      <td>0</td>\n",
       "      <td>0</td>\n",
       "      <td>0</td>\n",
       "      <td>1</td>\n",
       "      <td>0</td>\n",
       "    </tr>\n",
       "    <tr>\n",
       "      <th>32562</th>\n",
       "      <td>0</td>\n",
       "      <td>0</td>\n",
       "      <td>0</td>\n",
       "      <td>1</td>\n",
       "      <td>0</td>\n",
       "      <td>0</td>\n",
       "      <td>1</td>\n",
       "      <td>0</td>\n",
       "      <td>0</td>\n",
       "      <td>0</td>\n",
       "      <td>...</td>\n",
       "      <td>0</td>\n",
       "      <td>0</td>\n",
       "      <td>1</td>\n",
       "      <td>0</td>\n",
       "      <td>0</td>\n",
       "      <td>0</td>\n",
       "      <td>1</td>\n",
       "      <td>0</td>\n",
       "      <td>1</td>\n",
       "      <td>0</td>\n",
       "    </tr>\n",
       "    <tr>\n",
       "      <th>32563</th>\n",
       "      <td>0</td>\n",
       "      <td>1</td>\n",
       "      <td>0</td>\n",
       "      <td>0</td>\n",
       "      <td>0</td>\n",
       "      <td>0</td>\n",
       "      <td>0</td>\n",
       "      <td>0</td>\n",
       "      <td>1</td>\n",
       "      <td>0</td>\n",
       "      <td>...</td>\n",
       "      <td>0</td>\n",
       "      <td>0</td>\n",
       "      <td>1</td>\n",
       "      <td>0</td>\n",
       "      <td>1</td>\n",
       "      <td>0</td>\n",
       "      <td>0</td>\n",
       "      <td>0</td>\n",
       "      <td>1</td>\n",
       "      <td>0</td>\n",
       "    </tr>\n",
       "    <tr>\n",
       "      <th>32564</th>\n",
       "      <td>0</td>\n",
       "      <td>1</td>\n",
       "      <td>0</td>\n",
       "      <td>0</td>\n",
       "      <td>0</td>\n",
       "      <td>0</td>\n",
       "      <td>1</td>\n",
       "      <td>0</td>\n",
       "      <td>0</td>\n",
       "      <td>0</td>\n",
       "      <td>...</td>\n",
       "      <td>0</td>\n",
       "      <td>0</td>\n",
       "      <td>1</td>\n",
       "      <td>0</td>\n",
       "      <td>0</td>\n",
       "      <td>0</td>\n",
       "      <td>0</td>\n",
       "      <td>1</td>\n",
       "      <td>1</td>\n",
       "      <td>0</td>\n",
       "    </tr>\n",
       "    <tr>\n",
       "      <th>32565</th>\n",
       "      <td>1</td>\n",
       "      <td>0</td>\n",
       "      <td>0</td>\n",
       "      <td>0</td>\n",
       "      <td>0</td>\n",
       "      <td>0</td>\n",
       "      <td>1</td>\n",
       "      <td>0</td>\n",
       "      <td>0</td>\n",
       "      <td>0</td>\n",
       "      <td>...</td>\n",
       "      <td>0</td>\n",
       "      <td>1</td>\n",
       "      <td>0</td>\n",
       "      <td>1</td>\n",
       "      <td>0</td>\n",
       "      <td>0</td>\n",
       "      <td>0</td>\n",
       "      <td>0</td>\n",
       "      <td>1</td>\n",
       "      <td>0</td>\n",
       "    </tr>\n",
       "    <tr>\n",
       "      <th>...</th>\n",
       "      <td>...</td>\n",
       "      <td>...</td>\n",
       "      <td>...</td>\n",
       "      <td>...</td>\n",
       "      <td>...</td>\n",
       "      <td>...</td>\n",
       "      <td>...</td>\n",
       "      <td>...</td>\n",
       "      <td>...</td>\n",
       "      <td>...</td>\n",
       "      <td>...</td>\n",
       "      <td>...</td>\n",
       "      <td>...</td>\n",
       "      <td>...</td>\n",
       "      <td>...</td>\n",
       "      <td>...</td>\n",
       "      <td>...</td>\n",
       "      <td>...</td>\n",
       "      <td>...</td>\n",
       "      <td>...</td>\n",
       "      <td>...</td>\n",
       "    </tr>\n",
       "    <tr>\n",
       "      <th>48837</th>\n",
       "      <td>0</td>\n",
       "      <td>1</td>\n",
       "      <td>0</td>\n",
       "      <td>0</td>\n",
       "      <td>0</td>\n",
       "      <td>0</td>\n",
       "      <td>0</td>\n",
       "      <td>0</td>\n",
       "      <td>0</td>\n",
       "      <td>1</td>\n",
       "      <td>...</td>\n",
       "      <td>0</td>\n",
       "      <td>0</td>\n",
       "      <td>1</td>\n",
       "      <td>0</td>\n",
       "      <td>0</td>\n",
       "      <td>0</td>\n",
       "      <td>1</td>\n",
       "      <td>0</td>\n",
       "      <td>1</td>\n",
       "      <td>0</td>\n",
       "    </tr>\n",
       "    <tr>\n",
       "      <th>48838</th>\n",
       "      <td>0</td>\n",
       "      <td>1</td>\n",
       "      <td>0</td>\n",
       "      <td>0</td>\n",
       "      <td>0</td>\n",
       "      <td>0</td>\n",
       "      <td>1</td>\n",
       "      <td>0</td>\n",
       "      <td>0</td>\n",
       "      <td>0</td>\n",
       "      <td>...</td>\n",
       "      <td>0</td>\n",
       "      <td>1</td>\n",
       "      <td>0</td>\n",
       "      <td>0</td>\n",
       "      <td>0</td>\n",
       "      <td>1</td>\n",
       "      <td>0</td>\n",
       "      <td>0</td>\n",
       "      <td>1</td>\n",
       "      <td>0</td>\n",
       "    </tr>\n",
       "    <tr>\n",
       "      <th>48839</th>\n",
       "      <td>0</td>\n",
       "      <td>0</td>\n",
       "      <td>0</td>\n",
       "      <td>1</td>\n",
       "      <td>0</td>\n",
       "      <td>0</td>\n",
       "      <td>0</td>\n",
       "      <td>0</td>\n",
       "      <td>0</td>\n",
       "      <td>1</td>\n",
       "      <td>...</td>\n",
       "      <td>0</td>\n",
       "      <td>0</td>\n",
       "      <td>1</td>\n",
       "      <td>0</td>\n",
       "      <td>0</td>\n",
       "      <td>0</td>\n",
       "      <td>1</td>\n",
       "      <td>0</td>\n",
       "      <td>1</td>\n",
       "      <td>0</td>\n",
       "    </tr>\n",
       "    <tr>\n",
       "      <th>48840</th>\n",
       "      <td>0</td>\n",
       "      <td>1</td>\n",
       "      <td>0</td>\n",
       "      <td>0</td>\n",
       "      <td>0</td>\n",
       "      <td>0</td>\n",
       "      <td>1</td>\n",
       "      <td>0</td>\n",
       "      <td>0</td>\n",
       "      <td>0</td>\n",
       "      <td>...</td>\n",
       "      <td>0</td>\n",
       "      <td>0</td>\n",
       "      <td>1</td>\n",
       "      <td>0</td>\n",
       "      <td>0</td>\n",
       "      <td>0</td>\n",
       "      <td>0</td>\n",
       "      <td>1</td>\n",
       "      <td>1</td>\n",
       "      <td>0</td>\n",
       "    </tr>\n",
       "    <tr>\n",
       "      <th>48841</th>\n",
       "      <td>0</td>\n",
       "      <td>0</td>\n",
       "      <td>0</td>\n",
       "      <td>0</td>\n",
       "      <td>1</td>\n",
       "      <td>0</td>\n",
       "      <td>0</td>\n",
       "      <td>0</td>\n",
       "      <td>0</td>\n",
       "      <td>1</td>\n",
       "      <td>...</td>\n",
       "      <td>0</td>\n",
       "      <td>0</td>\n",
       "      <td>1</td>\n",
       "      <td>0</td>\n",
       "      <td>0</td>\n",
       "      <td>1</td>\n",
       "      <td>0</td>\n",
       "      <td>0</td>\n",
       "      <td>1</td>\n",
       "      <td>0</td>\n",
       "    </tr>\n",
       "  </tbody>\n",
       "</table>\n",
       "<p>16281 rows × 38 columns</p>\n",
       "</div>"
      ],
      "text/plain": [
       "       hours_per_week_bin_a. 0-30  hours_per_week_bin_b. 31-40  \\\n",
       "32561                           0                            1   \n",
       "32562                           0                            0   \n",
       "32563                           0                            1   \n",
       "32564                           0                            1   \n",
       "32565                           1                            0   \n",
       "...                           ...                          ...   \n",
       "48837                           0                            1   \n",
       "48838                           0                            1   \n",
       "48839                           0                            0   \n",
       "48840                           0                            1   \n",
       "48841                           0                            0   \n",
       "\n",
       "       hours_per_week_bin_c. 71-100  hours_per_week_bin_d. 41-50 & 61-70  \\\n",
       "32561                             0                                    0   \n",
       "32562                             0                                    1   \n",
       "32563                             0                                    0   \n",
       "32564                             0                                    0   \n",
       "32565                             0                                    0   \n",
       "...                             ...                                  ...   \n",
       "48837                             0                                    0   \n",
       "48838                             0                                    0   \n",
       "48839                             0                                    1   \n",
       "48840                             0                                    0   \n",
       "48841                             0                                    0   \n",
       "\n",
       "       hours_per_week_bin_e. 51-60  occupation_bin_a. Low  \\\n",
       "32561                            0                      0   \n",
       "32562                            0                      0   \n",
       "32563                            0                      0   \n",
       "32564                            0                      0   \n",
       "32565                            0                      0   \n",
       "...                            ...                    ...   \n",
       "48837                            0                      0   \n",
       "48838                            0                      0   \n",
       "48839                            0                      0   \n",
       "48840                            0                      0   \n",
       "48841                            1                      0   \n",
       "\n",
       "       occupation_bin_b. Mid - Low  occupation_bin_c. Mid - Mid  \\\n",
       "32561                            1                            0   \n",
       "32562                            1                            0   \n",
       "32563                            0                            0   \n",
       "32564                            1                            0   \n",
       "32565                            1                            0   \n",
       "...                            ...                          ...   \n",
       "48837                            0                            0   \n",
       "48838                            1                            0   \n",
       "48839                            0                            0   \n",
       "48840                            1                            0   \n",
       "48841                            0                            0   \n",
       "\n",
       "       occupation_bin_d. Mid - High  occupation_bin_e. High  ...  \\\n",
       "32561                             0                       0  ...   \n",
       "32562                             0                       0  ...   \n",
       "32563                             1                       0  ...   \n",
       "32564                             0                       0  ...   \n",
       "32565                             0                       0  ...   \n",
       "...                             ...                     ...  ...   \n",
       "48837                             0                       1  ...   \n",
       "48838                             0                       0  ...   \n",
       "48839                             0                       1  ...   \n",
       "48840                             0                       0  ...   \n",
       "48841                             0                       1  ...   \n",
       "\n",
       "       education_bin_e. High  workclass_bin_a. no income  \\\n",
       "32561                      0                           0   \n",
       "32562                      0                           0   \n",
       "32563                      0                           0   \n",
       "32564                      0                           0   \n",
       "32565                      0                           1   \n",
       "...                      ...                         ...   \n",
       "48837                      0                           0   \n",
       "48838                      0                           1   \n",
       "48839                      0                           0   \n",
       "48840                      0                           0   \n",
       "48841                      0                           0   \n",
       "\n",
       "       workclass_bin_b. income  age_bin_a. 0-25  age_bin_b. 26-30 & 71-100  \\\n",
       "32561                        1                1                          0   \n",
       "32562                        1                0                          0   \n",
       "32563                        1                0                          1   \n",
       "32564                        1                0                          0   \n",
       "32565                        0                1                          0   \n",
       "...                        ...              ...                        ...   \n",
       "48837                        1                0                          0   \n",
       "48838                        0                0                          0   \n",
       "48839                        1                0                          0   \n",
       "48840                        1                0                          0   \n",
       "48841                        1                0                          0   \n",
       "\n",
       "       age_bin_c. 31-35 & 61-70  age_bin_d. 36-40 & 56-60  age_bin_e. 40-55  \\\n",
       "32561                         0                         0                 0   \n",
       "32562                         0                         1                 0   \n",
       "32563                         0                         0                 0   \n",
       "32564                         0                         0                 1   \n",
       "32565                         0                         0                 0   \n",
       "...                         ...                       ...               ...   \n",
       "48837                         0                         1                 0   \n",
       "48838                         1                         0                 0   \n",
       "48839                         0                         1                 0   \n",
       "48840                         0                         0                 1   \n",
       "48841                         1                         0                 0   \n",
       "\n",
       "       flag_test  flag_train  \n",
       "32561          1           0  \n",
       "32562          1           0  \n",
       "32563          1           0  \n",
       "32564          1           0  \n",
       "32565          1           0  \n",
       "...          ...         ...  \n",
       "48837          1           0  \n",
       "48838          1           0  \n",
       "48839          1           0  \n",
       "48840          1           0  \n",
       "48841          1           0  \n",
       "\n",
       "[16281 rows x 38 columns]"
      ]
     },
     "execution_count": 534,
     "metadata": {},
     "output_type": "execute_result"
    }
   ],
   "source": [
    "# loading X_test\n",
    "X_test"
   ]
  },
  {
   "cell_type": "code",
   "execution_count": 535,
   "metadata": {},
   "outputs": [],
   "source": [
    "# defining y_test\n",
    "y_test = test_set.iloc[:, 0]"
   ]
  },
  {
   "cell_type": "code",
   "execution_count": 536,
   "metadata": {},
   "outputs": [
    {
     "data": {
      "text/plain": [
       "32561    0\n",
       "32562    0\n",
       "32563    1\n",
       "32564    1\n",
       "32565    0\n",
       "        ..\n",
       "48837    0\n",
       "48838    0\n",
       "48839    0\n",
       "48840    0\n",
       "48841    1\n",
       "Name: y, Length: 16281, dtype: int64"
      ]
     },
     "execution_count": 536,
     "metadata": {},
     "output_type": "execute_result"
    }
   ],
   "source": [
    "# loading y_test\n",
    "y_test"
   ]
  },
  {
   "cell_type": "markdown",
   "metadata": {},
   "source": [
    "## Training & Testing Data"
   ]
  },
  {
   "cell_type": "markdown",
   "metadata": {},
   "source": [
    "### Training and Testing the model using Logistic Regression"
   ]
  },
  {
   "cell_type": "code",
   "execution_count": 537,
   "metadata": {},
   "outputs": [
    {
     "data": {
      "text/plain": [
       "LogisticRegression(random_state=1)"
      ]
     },
     "execution_count": 537,
     "metadata": {},
     "output_type": "execute_result"
    }
   ],
   "source": [
    "# fitting Logistic Regression to the Training set\n",
    "classifier = LogisticRegression(random_state = 1)\n",
    "classifier.fit(X_train, y_train)"
   ]
  },
  {
   "cell_type": "code",
   "execution_count": 538,
   "metadata": {},
   "outputs": [],
   "source": [
    "# predicting the Test set results\n",
    "y_pred = classifier.predict(X_test)"
   ]
  },
  {
   "cell_type": "markdown",
   "metadata": {},
   "source": [
    "#### Evaluating the Logistic Regression Model using Confusion Matrix"
   ]
  },
  {
   "cell_type": "code",
   "execution_count": 539,
   "metadata": {},
   "outputs": [
    {
     "name": "stdout",
     "output_type": "stream",
     "text": [
      "[[11601   834]\n",
      " [ 1667  2179]]\n"
     ]
    }
   ],
   "source": [
    "# Making the Confusion Matrix    \n",
    "cm = confusion_matrix(y_test, y_pred)\n",
    "print(cm)"
   ]
  },
  {
   "cell_type": "markdown",
   "metadata": {},
   "source": [
    "we can see from the confusion matrix results, we have quite alot of correct predictions, in this case which is **13780** (11601 + 2179) and **2501** (1667 + 834) incorrect predictions.\n",
    "\n"
   ]
  },
  {
   "cell_type": "markdown",
   "metadata": {},
   "source": [
    "#### Evaluating the Logistic Regression Model using Precision Score"
   ]
  },
  {
   "cell_type": "code",
   "execution_count": 540,
   "metadata": {},
   "outputs": [
    {
     "name": "stdout",
     "output_type": "stream",
     "text": [
      "precision: 72\n"
     ]
    }
   ],
   "source": [
    "# precision score\n",
    "precision = precision_score(y_test, y_pred)\n",
    "print(\"precision: {}\".format(round(precision * 100), 2))"
   ]
  },
  {
   "cell_type": "markdown",
   "metadata": {},
   "source": [
    "#### Evaluating the Logistic Regression Model using Recall Score"
   ]
  },
  {
   "cell_type": "code",
   "execution_count": 541,
   "metadata": {},
   "outputs": [
    {
     "name": "stdout",
     "output_type": "stream",
     "text": [
      "Recall: 57\n"
     ]
    }
   ],
   "source": [
    "# recall score\n",
    "recall = recall_score(y_test, y_pred)\n",
    "print(\"Recall: {}\".format(round(recall * 100), 2))"
   ]
  },
  {
   "cell_type": "markdown",
   "metadata": {},
   "source": [
    "#### Evaluating the Logistic Regression Model using F1 Score"
   ]
  },
  {
   "cell_type": "code",
   "execution_count": 542,
   "metadata": {},
   "outputs": [
    {
     "name": "stdout",
     "output_type": "stream",
     "text": [
      "f1: 64\n"
     ]
    }
   ],
   "source": [
    "# recall score\n",
    "f1 = f1_score(y_test, y_pred)\n",
    "print(\"f1: {}\".format(round(f1 * 100), 2))"
   ]
  },
  {
   "cell_type": "markdown",
   "metadata": {},
   "source": [
    "### Training and Testing the model using XGBoost Classifier"
   ]
  },
  {
   "cell_type": "markdown",
   "metadata": {},
   "source": [
    "Not enough time, will complete the XGBoost classifier before the end os saturday....thanks"
   ]
  },
  {
   "cell_type": "code",
   "execution_count": null,
   "metadata": {},
   "outputs": [],
   "source": []
  }
 ],
 "metadata": {
  "kernelspec": {
   "display_name": "Python 3",
   "language": "python",
   "name": "python3"
  },
  "language_info": {
   "codemirror_mode": {
    "name": "ipython",
    "version": 3
   },
   "file_extension": ".py",
   "mimetype": "text/x-python",
   "name": "python",
   "nbconvert_exporter": "python",
   "pygments_lexer": "ipython3",
   "version": "3.8.5"
  }
 },
 "nbformat": 4,
 "nbformat_minor": 4
}
